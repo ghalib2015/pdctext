{
 "cells": [
  {
   "cell_type": "code",
   "execution_count": 1,
   "metadata": {},
   "outputs": [],
   "source": [
    "import nltk\n",
    "from nltk import word_tokenize\n",
    "from nltk.corpus import stopwords\n",
    "from nltk.stem.snowball import SnowballStemmer\n",
    "import re\n",
    "\n",
    "import ast\n",
    "import math\n",
    "import operator\n",
    "import datetime\n",
    "\n",
    "import pandas as pd\n",
    "import glob"
   ]
  },
  {
   "cell_type": "markdown",
   "metadata": {},
   "source": [
    "Indexing and quering text:\n",
    "Since the articles are not well formated (lots of tags...) we decide to transform it into a simpler structure (CSV ordered by IDs with only the title and text)"
   ]
  },
  {
   "cell_type": "code",
   "execution_count": 2,
   "metadata": {},
   "outputs": [],
   "source": [
    "list = [datetime.datetime.strptime(filename[2:], '%m%d%y') for filename in glob.glob(\"la*\")]\n",
    "list.sort()\n",
    "list = [\"la\"+filename.strftime(\"%m%d%y\") for filename in list]\n",
    "id = 0\n",
    "text = \"\"\n",
    "with open(\"filtered.csv\",\"w+\") as fileOut:\n",
    "    for filename in list:\n",
    "        with open(filename,\"r\") as file:\n",
    "            for line in file:\n",
    "                if \"<DOCID>\" in line:\n",
    "                    if id !=0:\n",
    "                        fileOut.writelines(str(id) + \"#\" + str(text.replace(\"\\n\",\"\")) + \"\\n\")\n",
    "                    text = \"\"\n",
    "                    id = (line.split(\">\")[1].split(\"<\")[0].replace(\" \",\"\"))\n",
    "                if \"<HEADLINE>\" in line:\n",
    "                    next(file)\n",
    "                    text = file.readline()\n",
    "                if \"<TEXT>\" in line:\n",
    "                    line = file.readline()\n",
    "                    while \"</TEXT>\" not in line:\n",
    "                        if \"<\" not in line:\n",
    "                            text = text+line\n",
    "                        line = file.readline()"
   ]
  },
  {
   "cell_type": "markdown",
   "metadata": {},
   "source": [
    "Now all the articles are in one CSV file ordered by id with only the title and the text"
   ]
  },
  {
   "cell_type": "code",
   "execution_count": 3,
   "metadata": {},
   "outputs": [
    {
     "name": "stdout",
     "output_type": "stream",
     "text": [
      "1#NEW FALLOUT FROM CHERNOBYL; The onset of the new Gorbachev policy of glasnost, commonly mistranslated as openness but closer in connotation to candor or publicizing, has complicated the task of Soviet secret-keepers and has allowed substantial new Western insights into Soviet society. David R. Marples' new book, his second on the Chernobyl accident of April 26, 1986, is a shining example of the best type of non-Soviet analysis into topics that only recently were absolutely taboo in Moscow official circles. The author, a British-educated historian and economist, is a research associate with the Canadian Institute of Ukrainian Studies at the University of Alberta, and the academic style of the book is undisguised. However, its intended audience is the general public, and anyone interested in nuclear power, or Soviet economy and society, or human drama, or just plain sleuthing state secrets, will find hitherto unpublished revelations and explanations of the event and its continuing aftermath. The effects of Chernobyl reverberated throughout so many facets of Soviet society that a continuous coherent narrative is probably impossible. Marples discusses half a dozen major themes arranged in a fairly arbitrary order (as indicated by the frequent and helpful cross references throughout the text) and succeeds in mapping out his main themes. The personal interests of each reader determine which of the sections may be deemed too detailed and which too sketchy, but considering the need for such a comprehensive overview, the levels are generally appropriate. The book is, on the one hand, not a light read, and an executive summary might have been possible in a quarter the length. But, on the other, so many of the judgments depend on a subtle interpretation of a multitude of sources that the author is obligated to present the raw data for the reader's inspection. The modular nature of the book also allows a reader to skip, browse, and revisit earlier sections, aided by a convenient internal organization and a thorough index. First in the world's attention, and in the text, is a discussion of the human victims of the accident. The official tally is 31 (only about 20 names have ever been released), but Marples suspects there were other short-term radiation victims. A large number of unnecessary late-term abortions were also performed on local women, and by rights those unborn babies count as casualties. Widespread \"radiophobia\" led to restricted diets which created malnourishment and subsequent disease in thousands of people. The tens of thousands of people taking part in cleanup operations were never included in official totals of those exposed. Since the book went to press, Soviet military sources have referred to at least one death in the actual reactor entombment program. But the greatest toll is likely to occur with the delayed deaths. Here, Marples encounters for the first time the soon familiar theme of official Soviet myth-making around the event: Reality is twisted to serve state policy objectives, which include calming an alarmed public with assurances that all is well when it isn't. And thus is born what he properly labels the \"myth of Chernobyl,\" the official line that the disaster provided a test that Soviet society passed with honor. \"In the Soviet view,\" he writes, \"it was first and foremost a victory, a story with an ending, and an ending that was triumphant.\" Thus, when sober Western medical estimates placed the future \"excess cancer deaths\" at several tens of thousands, both in the Soviet Union and in Europe (a few tenths of a percent elevation of the natural cancer rate), the Soviets reacted furiously. The estimates are branded \"nonsense\" and the estimators are dismissed as \"panic mongers\" promulgating \"anti-Soviet venom.\" Subsequently the author addresses themes of environmental impact, economic and political repercussions, public images, and the recovery operations. Along the way, Marples provides a damning list of examples in which Soviet officials attempted to retreat behind old-style cover-ups and outright lies. False information was issued on radiation levels, on subsequent accidents at the site, on contamination levels of the Kiev water supply, on severe discipline against non-volunteer cleanup personnel, on reactor entombment schedules and on operator training levels. A severe 1986-1987 countrywide electrical power shortage was officially denied although it was real enough to compel the restart of three Chernobyl reactors in explicit violation of Soviet safety regulations. Design deficiencies of the Chernobyl-style reactors were downplayed and human errors were declared to be the primary culprit. Ultimately, observes the author, \"It is ironic that in an era of openness, Chernobyl may have been both the pioneer of glasnost under Gorbachev and then subsequently its first casualty.\" He ultimately concludes, \"Aspects of the disaster . . . have rarely been dealt with thoroughly or even honestly by Soviet sources.\" Hence the need for this book, a need which is admirably fulfilled despite the many remaining mysteries and uncertainties. The July, 1987, trial of reactor personnel marked a full circle of disclosure. Journalists were allowed into the pre-scripted first and last days, but the weeklong deliberative sessions were held in secret and no word of their substance has ever been released. The propaganda purpose of the trial and surrounding official publicity, he maintains, had one goal: \"To divert culpability from the party hierarchy, in Kiev and especially in Moscow.\" This is precisely the theme I have also encountered in my own investigations of aerospace accidents of the past. Where individual human failings led to catastrophe, a sanitized story may eventually be released, but where Kremlin policy led to disaster (such as the Nedelin catastrophe of 1960 or the Soyuz-1 disaster in 1967), the entire event remains absolutely off limits to glasnost. The closing blow-by-blow description of the nuclear power debate presages a dramatic event which occurred too recently for inclusion in this first edition. Viktor Legasov, tagged by the author as one of the country's two leading pro-nuclear advocates, actually was sinking into private despair over the poor implementation of safety standards. In the end, he made his final and most eloquent testimony to this despair on the second anniversary of the accident, by committing suicide. For several weeks the Soviets tried to sit on the circumstances of his \"tragic death,\" even issuing official non-explanations which asserted that the death was not due to medical effects of radiation. Finally, crusading journalist Vladimir Gubarev, with access to Legasov's notebooks, broke the story in Pravda. Readers of this book will come to know these and other characters so well that the suicide fits right into the \"big picture\" of the catastrophe's social impacts. For an author to so accurately describe a social milieu that subsequent unpredictable events only enhance his insights is testimony to the highest quality of scholarship. Readers of Marples' book will rarely be surprised as the Chernobyl catastrophe's consequences continue to unfold in the future. \n",
      "\n",
      "2#THE ARISTOCRAT AS INDEPENDENT VOTER; Andre Jardin's \"Tocqueville,\" surprisingly the first full-scale biography of this major 19th-Century figure, is a fine, old-fashioned piece of work, some of it original, much of it taken from the ample precedent scholarship. It provides an abundant store of information and an occasional surprise -- a dozen years after its publication, we find the author of \"Democracy in America,\" now minister of foreign affairs, exclaiming: \"But what animals these Americans are!\" It is as the author of \"Democracy in America\" that Tocqueville is known in this country; but what this biography reveals is not so much an admirer of America as a Frenchman of his time, circumstance and needs, even when he is in America. He came here with his friend Beaumont ostensibly as a student of penitentiary reform, but Tocqueville really wanted to take a larger look at this new republic, since it was clear to him that the European drift was in that direction, and what intrigued him was its democratic base, since he had been brought up to believe that a republic could function only when run by a virtuous elite. We know what he found and how he responded, but the biography also reveals, almost inadvertently, why he was such an accurate and comparatively unbiased observer. For one thing, he had not biased himself by reading contemporary travel literature, much of it written by snide Tories pretending to take an unprejudiced look at the American experiment. Capt. Basil Hall's infamous \"Travels\" had been only partially translated (the chapter on prison reform) into French, and, in any event, it was his companion Beaumont who read it. The result was that Tocqueville's vision had not been prejudiced (other than by his relative Chateaubriand's romance with New World nature). For another, Tocqueville and Beaumont readied themselves each day by preparing questions for the people they would meet, questions based upon their own observations sur place and designed to elicit responses useful to them as Frenchmen trying to prepare themselves for a possible future. They were not, as were the Tories, justifying a past. Tocqueville's Cartesian clarity, his relative lack of bias, meant that he used the answers to his questions to form a useful statement about America, but the questions themselves and their reasons reveal perhaps even more about France. By looking at this intelligent, open-minded, and inquiring young civil servant and nobleman of impeccable political parentage (great grandson of Malesherbes), Jardin's book provides the American reader a marvelous introduction to the political shiftings, the gradual yet sometimes violent post-revolutionary cracking of the political structure in France as it grappled simultaneously with the shattered legitimacy of the past, a slippery present and an ill-defined future. After the immediate success of \"Democracy in America\" (1835), Tocqueville entered the political arena and was elected deputy for the arrondissement of Valognes, the region of his family castle in Normandy. He sat left of center in the Chamber. Although many at the time thought of him as an Carlist aristocrat and some in this country think of him as an American-style conservative, Tocqueville considered the old aristocracy \"dead for ever.\" Over the years, he demonstrated his liberalism by fighting for parliamentary monarchy, separation of church and state, reform of the suffrage laws, improvement of the worker's lot, for liberalizing public education, abolishing slavery wherever it existed, improving the prison system and eliminating poverty. He managed, nevertheless, to stay clear of several more powerful champions of liberal causes such as Lamartine, Royer-Collard, and Thiers, who would have liked to have him on their side but whose egos he mistrusted. Independence is what most characterizes Tocqueville's career. A colleague reproached him for \"giving the right hand to the left, the left to the right and regretting that he does not have a third one to give invisibly.\" \"Freedom is the strongest of my passions. Voila. It is the truth,\" he explained to disconcerted observers. If he moved left, it was, he claimed, to impose his color on the left, not change his own. Another constant was his hatred of centralization. In \"L'Ancien Regime et la Revolution,\" Tocqueville analyzed the roots of centralization in France, which according to him went as far back as the reign of Philip the Fair in the Middle Ages. He lamented the fact that centralization had destroyed time-tested local organic structures and that the French nobility itself was at fault in the process. Tocqueville fought centralism in all of its manifestations as he saw them. For instance, rather an agnostic himself, he defended religious education because he believed in the healthy necessity of a third force besides the state and the people. Tocqueville's anticentralism colored his responses to the various colonial enterprises that characterize European history of the period. Thus, in newly conquered Algeria, he favored a kind of settlement based on local autonomy rather than central metropolitan power. He was the first man in the Chamber to push for a separate ministry for Algeria -- a dream that became a fact only a century later in Leon Blum's cabinet. He deplored the downfall of the Ottoman Empire in the Middle East, since the Turks were not only a desirable bumper between the major European predators, but also relatively tolerant themselves toward the diversity of their possessions. He admired the respect for local customs that the British had shown in India. Tocqueville was an active, intelligent legislator, esteemed particularly for his work on penitentiary reform (inspired by the Philadelphia system) and on the abolition of slavery, but he was not a sensational figurehead. One might say that, like Montaigne, he had lived through a great deal of political turmoil and managed to preserve an independent judgment. When Louis-Napoleon was propelled into the presidency at the end of the bloody 1848 revolution, Tocqueville was given the foreign affairs ministry in the Barrot cabinet. He served with the same unsensational distinction as in the Chamber but was fired after only five months. He had protested Louis-Napoleon's coup d'etat that made an emperor of the president and was briefly imprisoned in Vincennes -- luckier in this than one of our great-grandfathers, who was sent to the Sahara for the same offense. From then to his death from tuberculosis in Cannes in 1859, Tocqueville led the life of a gentleman farmer and journalist who, amid numerous changes of residence to accommodate his health, wrote (but did not finish) \"L'Ancien Regime et la Revolution.\" This long and scrupulous study of a man who was one of the most profound and prophetic thinkers of his time, is, alas, scrupulous to the point of boredom. The narration rarely deviates from an inexhaustible concatenation of facts related in the soberest of prose. Although it does justice to Tocqueville's ideas, it fails in rendering the passion and the grace of his intellectual life and the social brilliance of the era. Moreover, the book is curiously organized: The order followed a mixture of the chronological and of the thematic, with several baffling leaps from one to the other. Andre Jardin's work constitutes an excellent work of reference for the scholar. It is indexed and substantially but not cumbersomely footnoted. Still it makes the layman yearn for the livelier manner of much recent historical writing. \n",
      "\n",
      "3#PERUVIAN MEMORIES AND THE 'SHINING PATH'; Why read \"Tungsten,\" a partisan novel written almost 60 years ago in which evil is unmitigated, virtue unblemished, and the characters seem to lack dimension or complexity as they play out their predetermined roles on the stage of the class struggle? Why read a book in which ideology reigns supreme, and why celebrate its first, belated translation into English? Because the author is Cesar Vallejo, one of the great poets of the 20th Century and a major figure in Latin American literature. Vallejo created a wrenching poetic language for Spanish that radically altered the shape of its imagery and the nature of its rhythms. No facile trend setter, Vallejo forged a new discourse in order to express his own visceral compassion for human suffering. He saw the world in piercing flashes of outrage and anguish, terror and pity, and what he saw wounded him like knife thrusts. A passionate, tragic poet, he mourned our loss of moral innocence and despaired of the injustice that moves the world. In the late 1920s, when he was living in Paris and eking out a meager livelihood as a journalist, the pain at the roots of his being found objective substantiation in radical politics. Born in the Peruvian Andes in 1892, he witnessed firsthand the victimization and exploitation of the South American Indians. Although his own family was not financially destitute (his father was a notary and minor bureaucrat in the small town of Santiago de Chuco), Vallejo was a cholo, a person born of mixed European and Indian ancestry. The fact is not irrelevant. In a society where social and economic status followed the color line with cosmic certainty, where racial discrimination was rigidly adhered to although rarely acknowledged in public, the representatives of foreign companies, with the wholehearted complicity of domestic colleagues, extracted high profits from the near-slavery of the illiterate, utterly alienated and ultimately helpless victims of that racism. Vallejo had ample opportunity to witness the brutalization en masse of the Indian underclass and the appalling greed of their lighter-skinned masters who carried on the colonial tradition of using Indians as forced labor in mines and on plantations. Twentieth-Century writers from Ciro Alegria to Manuel Scorza have denounced the Peruvian tragedy in their books. \"Tungsten\" was one of the earliest novels to do so in modern terms. As a young man, however, Vallejo's greatest energies were devoted to writing and publishing his poems (\"Los heraldos negros,\" his first book, appeared in 1918); consequently, he remained on the periphery of the windstorms of political and social unrest that swept through South America in the second decade of the century, although he was in the time and place where growing agitation to establish justice for Peruvian Indians and workers began its inexorable march toward Marxism. Vallejo, Jose Carlos Mariategui (the \"Shining Path\" in today's Peru takes its name from his writings) and Victor Raul Haya de la Torre (a founder of the important APRA movement -- the \"Popular Revolutionary American Alliance\") crossed paths at the university in Trujillo. But Vallejo was an intermittent student. His family began to experience economic difficulties during his adolescence, and he was obliged to interrupt secondary school and then his university studies to take a series of jobs, which included office work in the mines at Tambores and Quiruvilca, and on a large sugar plantation in the Chicama Valley. These facts are not irrelevant either. They provided the historical raw material for \"Tungsten,\" the documented background to Vallejo's outcry against the grim realities of Indian life in Peru. The shape that material would take -- his conviction that the problem of race was indistinguishable from the problem of class -- was determined by his increasingly active commitment to socialism, a political engagement that, by 1930, led to his expulsion from France, where he had gone to live seven years earlier. The action of the novel is centered in a fictional mining town and its provincial capital, Colca. The time is 1917, just before the U.S. entry into World War I when a ready supply of tungsten would be crucial to the weapons industry. A North American corporation takes over the mine, and the boom is on: Peasants are first lured and then coerced into working for the company, local Indians, the Soras, are cheated of their land and animals, petit bourgeois entrepreneurs scramble on the backs of the poor for wealth and position, and venal officials and dignitaries find a new source of bribery and power-brokering in the foreign capitalists. The first two-thirds of the book, in fact, constitutes a genre study of unashamed thuggery, a series of vignettes of corruption, repression and brutality that sets the stage for the violent heart of \"Tungsten\" and the appearance of its proletarian Indian hero, Servando Huanca. Two Indian boys are forcibly conscripted into military service (the military as well as the mining contractors have \"body quotas\" -- numbers of recruits or workers that must be obtained by any means), and on the long march from their homes to Colca, when they are tied by the waist to the mules that their captors ride, they are so badly abused that one of them eventually dies. Outside the Subprefecture an angry crowd gathers, indignant at the visible signs of the conscripts' mistreatment. One defiant man, Servando Huanca, steps forward to speak for the crowd with natural authority and an instinctive class consciousness. These qualities inspire the people and momentarily cow the authorities, but then the troops are ordered to fire into the crowd, and later that night officially sanctioned vigilantes pursue any Indian they can find, shooting to kill. Some, however, are taken into custody, and deals are struck by sleazy officials which allow the prisoners to be sent off to a sure death in the mines to help fulfill the company's \"body quota.\" Last and certainly least, the third section of the book is a kind of postscript to the Colca massacre. Vallejo allows his indignation and passion to turn into mechanical ideology: Servando Huanca \"duckspeaks\" a mercifully brief exercise in orthodoxy, proclaiming that world revolution is under way, that it will be led by a militant proletariat inspired by Lenin and not by bourgeois \"intellectuals,\" that it will sweep away the ruling classes in Peru. Vallejo even permits the novel to end with this ponderously symbolic sentence: \"Outside, the wind was rising, portending storm.\" Kevin J. O'Connor has written a thoughtful and informative foreword, Robert Mezey has done a fine job of translating Vallejo's often quirky Spanish, and both of them deserve our gratitude for their sensitivity and skill in bringing the work to the attention of an English-language audience. I am sorry that I cannot say as much for the editing. The typographical errors are frequent and unforgivable, and there is no indication as one reads that Mezey has provided important end notes to the text. This is a disservice to the reader; Vallejo and his translator deserve better. \n",
      "\n",
      "4#EXTINCT IN THE LAND OF FIRE; The four tribes of the now-extinct native Americans that once inhabited the Tierra del Fuego archipelago -- that ships' graveyard along the land's end, southern tip of South America -- were among the most primitive and hardy peoples encountered in the New World. In this fine piece of historical fiction cum-exemplary story, French novelist Jean Raspail explores the sad fate of the Alacalufs (who called themselves Kaweskar, \"The People\"), the lesser known of the two tribes of sea-nomads or \"canoe Indians.\" Raspail reconstructs the history of the Alacalufs through their own eyes and those of Magellan, Drake and other historical figures. In this noble quest of the \"other\" (those whose languages and customs seemed so alien to Europeans that they refused to admit that they belonged to the human species), the view from \"within\" is attempted through a synopsis of generations, of millennia, in the mind of the character Lafko, a kind of collective memory of the Alacalufs. The view from \"without\" reveals a shameful history of smug disdain: From Magellan on, Europeans judged the Alacalufs to be \"ugly,\" \"stinking,\" \"disgusting,\" \"brutish,\" \"beasts,\" \"animals\"; they kidnaped them, enslaved them and, at worst, their genocidal instincts unleashed, they turned their guns and cannons on them for sport, exterminated them; in the end, they were hunted for bounty or herded into missionary stations where they died of white man's diseases or the despair of captivity, and the last stragglers were reduced to bartering and begging in the shipping lanes of the Strait of Magellan. The complicity of scientists (like Darwin) in fostering this outcome is addressed in a couple of the chapters. The other side of the coin -- that our survival, too, depends on our ability to embrace others not as a function of our own ideal but of theirs -- is seen in the tragic fate of the inhabitants of Name of Jesus and the City of King Philip, Spain's first settlement communities in Tierra del Fuego,who went mad or starved to death. The English privateer Cavendish rechristened the latter city Port Famine. The point is brought home in the moving chapter, \"A Civilized Gentleman.\" Sir John Byron, shipwrecked in the Strait in his youth and rescued by the Alacalufs, returns to the scene years later and ponders the legacy of European contacts: \"What an endless history of contempt is unraveled! And yet . . . .\" An instinct for survival had not saved his fellow castaways. He alone had survived by crossing the cultural abyss and living with the Alacaluf clan for six months, and the clan had braved the seas and their fears of the world beyond their territory to set him down on an island from which Chilotan seal hunters returned him to Puerto Montt. But when Raspail attempts to give us a glimpse from within (the inner life of the Alacalufs), the reader is aware of a European mind wedged between him and the \"other.\" The Alacalufs are \"endlessly fleeing,\" \"forsaken\" pariahs, \"commanded by fate to survive, not to live\" in a land shrouded in \"an eternally black sky,\" \"a witches' dance of cruel winds,\" \"a hell of snow and winds.\" But this area is also stunningly beautiful, and Father Martin Gusinde has compared the Yamana, a sister tribe, to 'fidgety birds of passage who were happy and inwardly calm only when they were on the move'). In two recent works, Bruce Chatwin (\"The Songlines\") and Mario Vargas Llosa (\"El Hablador\" (\"The Speaker\") ) convincingly draw the reader into the soul-life, the Earth-bound myths and legends of the Australian Bushmen and the Peruvian Machiguengas, respectively. Raspail is far less successful in a parallel attempt with the Alacalufs, and the fault is not in Jeremy Leggatt's translation, which is excellent. Despite that limitation, Raspail's story, inscribed in the dialogue of cultures so characteristic of our age, is a fine version in historical fiction of a true story loud with ethical reverberations. As First-World nations, we are collectively responsible for the fate of colonized and subjugated peoples in the Third World, but we have hardly begun to address those responsibilities. \n",
      "\n",
      "11#ON THE COVER: Shirley Temple Black will be playing a return engagement in Pasadena when she presides over the Tournament of Roses Parade on Monday. As a curly-headed child star, she was grand marshal of the 1939 parade 50 years ago, the youngest in the parade's history. Now, she's been invited back to be grand marshal of the 100th Rose Parade, which starts Monday at 8 a.m. (to be covered on various TV stations; see Watchables for details). She joins a select group of others who have been grand marshals twice: Bob Hope, Richard Nixon and Earl Warren. Riding in the parade with Mrs. Black this year will be her granddaughter, Teresa Falaschi, shown with her on the cover. \n",
      "\n",
      "12#FICTION IN BRIEF: ROCK ME This novel's hip style, smooth tone and sensual spirit distinctively recall the music of Steely Dan, a resemblance which turns out to be more than accidental, for Marcelle Clements lives with Donald Fagen, Steely Dan's lead singer and composer. Clements, a journalist, wrote \"Rock Me\" in part to evoke the lives of the musicians she first met at New York City's High School of Music and Art and then toured with in a yearlong stint as one of Fagen's backup singers. On this level, \"Rock Me\" is absorbing and believable. Casey and Michael, Clements' protagonists, are accurate portrayals of 1960s rockers grappling with the late 1980s. Up on shrinks, down on drugs (after years of riding high) and longing for friendship though often sidetracked by lust, they speak in a delightfully spacey dialect from somewhere in between the San Fernando Valley and the New School for Social Research: \"It's just been a horrible grind for so long,\" Casey tells Michael, \"that now I have this, like, unbelievable negative tropism about all of it.\" Sometimes Clements' language, with no evidence of satire, strays from the eccentric to the insipid. \"You really have a great tan,\" Casey tells Michael. \"I hope so,\" he responds. \"Because that's all I have.\" Clements' point of view is also stylistically problematic, changing from first to third person for no apparent reason. A final problem is Clements' attempt to study a love triangle. Casey, the burnt-out lead singer in a highly successful band, leaves New York City to recuperate in Hawaii. There, she meets Michael, her former lover and band partner, and his girlfriend Leslie. Sensing the desire between Casey and Michael, Leslie, hardly monogamous herself, sanctions an affair between the two. Casey and Michael eventually make love, but rather than confronting her feelings toward Michael, Casey abruptly returns to New York, riddled with guilt over her \"dirty deed.\" Clements' portrait of Casey, nevertheless, is an intimate and credible sketch of a neurotic artist. Casey returns to New York confused, but creatively reinvigorated, concluding that she can only realize her fantasies in her music: \"The best affair is the affair you don't have . . . except in your songs.\" \n",
      "\n",
      "13#May I add yet another hurrah for the \"Live With Regis and Kathie Lee\" show? I find it stimulating and refreshing. J. K. Matthews, Pomona \n",
      "\n",
      "14#Thanks to ABC and Marlo Thomas for sharing a holiday gift with us. \"Free to Be . . . a Family\" was a touching reminder that truly we are one human family and the planet must be preserved for our precious children. Pamela Popovich, Redondo Beach \n",
      "\n",
      "21#MEMORIES OF A CHINESE-AMERICAN BOYHOOD; When I think of some friends of mine from the old neighborhood (all of whom had the proper ethnic credentials, let me assure you), one thing I remember is our wariness of what we called \"I Have a Problem\" literature. By that, we meant literature of ethnic experience at its most tiresome: brooding, Angst-ridden story-polemics, crammed to the gills with resentment and righteous anger, about existential misery in the Land of the Round-Eye; literature that seemed to assume that any bit of drivel was worth your attention just as long as it had a chip on its shoulder. It's a species related to what Calvin Trillin called the \"kvetch novel\" -- any novel in which you want to say to the main character, \"Oh, just pull up your socks\" -- only more irritating. But it's also an easy trap for anyone who writes from an ethnocentric point of view to fall into. It is, therefore, to Frank Chin's credit that his collection of short stories, \"The Chinaman Pacific &amp; Frisco R.R. Co.\" by and large avoids this trap even as it dances on the edge of the pit. There are eight stories in this volume, most of them autobiographical in tone. Almost all have as their essential subject the alienation of Chinese-America from the America of white skin and Wonder Bread. The first two, \"Railroad Standard Time\" and \"The Eat and Run Midnight People,\" read like meandering stream-of-consciousness memoirs and are self-indulgent enough to make them the weakest of the bunch. The final story, \"The Sons of Chan,\" clothes itself in shreds of fiction with some interesting Freudian overtones, but it is otherwise a tiring screed on growing up with the stereotypes in Charlie Chan movies as your only reflection in popular culture. Chin's rhetoric is often sharp and funny, but he also rides the high horse of racial bitterness for more than it's worth. It's the other five stories that distinguish \"The Chinaman Pacific &amp; Frisco R.R. Co.\" In them, Chin displays two considerable writerly virtues. One is a wicked sense of humor that runs a provocative gamut from jangled whimsy to scathing satire. His subject matter is weighty enough so that an amusing conceit or figuration often balances out the mood. This is particularly true of \"A Chinese Lady Dies,\" in which the narrator's problematic (and disturbingly Oedipal) relationship with his mother evokes such tension that the story would self-immolate without the whimsical dream passages in which he imagines himself as an Old-Western hero called E. Chino. His wit feels more like a dagger than a feather, but is no less amusing for it. And for good measure, Chin tacks on an afterword that reads suspiciously like a freewheeling satire on Maxine Hong Kingston's \"The Woman Warrior.\"  His other primary virtue is his considerable skill as a storyteller. He has a genuine gift for bringing characters and their predicaments alive. One sees this most vividly in \"The Only Real Day,\" which focuses on the struggle of an aged immigrant to keep American culture at bay and preserve his identity as a Chinese. Chin has a definite point to make in this story about the corrosion of Chinese values and identity in a mostly white world, but the message is filtered so thoroughly through the plot and well-drawn characters that it has no didactic harshness. It is, above all, a poignant and entrancing piece of fiction. \"Yes, Young Daddy,\" which depicts the protagonist's relationship with a female cousin who is grappling with adolescence, is also worth noting for its skillful portraiture. Chin's prose style tends toward a looseness vaguely reminiscent of William S. Burroughs. It's lively stuff but also slow going at times, what with the missing antecedents, plastic sentence structure and all. He also enjoys playing fast and loose with temporal shifts in his stories, with the result that memory, present experience, anticipation and pure fantasy often overlap. It's an absorbingly dense reflection of the way in which past, present and future come to bear upon each other in the mind, but everything melds so seamlessly that the reader may have some trouble keeping things sorted. On the whole, Chin does a good job of avoiding the hazards that could have swallowed up these stories. Although alienation is the great theme of post-World War II American literature and our age is distinguished by its voices from outside the mainstream, just because a work is about racial alienation doesn't automatically make it worth reading. The problem with ethnocentric literature is that its force is so centripetal. It tends to reach inward, instead of outward toward the universal significance that, as Northrop Frye said, marks literature in its highest form. Fiction need not reach that level to be worth our while, but it should at least show a human dimension that will move us and provoke us, as mere formalized pique cannot. Fortunately, \"The Chinaman Pacific &amp; Frisco R.R. Co.\" achieves such transcendance often enough to make it worthwhile fiction. \n",
      "\n",
      "22#MOVIES OF THE WEEK The Sunday evening movie lineup is one of the strongest in memory, commencing at 6 p.m. on Channel 5 with Mel Brooks' hilarious 1974 horror picture spoof, Young Frankenstein, with Gene Wilder heading a terrific cast. Chariots of Fire (Channel 13 Sunday at 6 p.m.), the 1981 multi-Oscar winner, traces the parallel lives of two very different athletes who became part of the remarkable British track and field team at the 1924 Olympics. Silent Victory: The Kitty O'Neil Story (Channel 9 Sunday at 7 p.m.) is an exceptionally well-made 1979 TV movie with Stockard Channing starring in this real-life story about a deaf woman who became one of Hollywood's top stunt women. If anything, Mel Brooks' 1968 debut film The Producers (Channel 5 Sunday at 8 p.m.) is even funnier than \"Young Frankenstein.\" It's a zany farce in which Zero Mostel and Gene Wilder come up with a cockamamie scheme to profit from staging a terrible play. The 1972 Frenzy (Channel 13 Sunday at 8 p.m.) is the finest of Alfred Hitchcock's last films, a thriller set in his native London and dealing with a man (Jon Finch) wrongly accused of being a serial killer. The Karen Carpenter Story (CBS Sunday at 9 p.m.) stars Cynthia Gibb in the title role of this new TV movie about the popular singer who died at 32 from the affects of anorexia nervosa. Mitchell Anderson plays Carpenter's brother and singing partner Richard. The 1984 Gremlins (NBC Sunday at 9 p.m.) is Frank Capra's \"It's a Wonderful Life\" turned inside out, upside down and pickled in brine, a sweet-and-sour comedy featuring an invasion of a small Middle American town by a horde of fast-multiplying, deceptively cute, furry creatures. The 14th James Bond adventure A View to a Kill (ABC Sunday at 9 p.m.) is a so-so affair, with Roger Moore beginning to look a little weary as 007 (Timothy Dalton would replace him in the next Bond, the 1987 \"Living Daylights\"). This time the villain is Christopher Walken, intent on destroying Silicon Valley. Watching Terry Gilliam's 1985 Brazil (Channel 5 Tuesday at 8 p.m.), an exploding cigar in the face of the future, is like watching Gilliam's head erupt in public. Everything that has ever made an impact on the film maker seems to be whirling by in this brilliant, exhausting, savagely funny post-Orwellian satire, set in the gray confines of the Ministry of Information where his shiningly innocent hero (Jonathan Pryce) toils in his cherished anonymity. Gilliam's targets are the usual Monty Python concerns: modern technology and the men who run it, terrorists, repairmen, bureaucrats, the plastic surgery industry, the ad game and sticklers for detail, wherever they are. Terror on Highway 91 (CBS Tuesday at 9 p.m.), a new TV movie, stars Ricky Schroder in the true story of a young man who exposes police corruption in a small southern town. George Dzundza and Matt Clark co-star. Blake Edwards' 1979 10 (Channel 13 Wednesday at 8 p.m., again on Saturday at 10 p.m.), a modern comedy classic, stars Dudley Moore as a popular composer who, in the clutch of middle age, pursues a beautiful young bride (Bo Derek) all the way to Mexico, where she is honeymooning. This is a superbly constructed film which makes shrewd observations of the American obsession with sex and youth, California-style. The Man in the Brown Suit (CBS Wednesday at 9 p.m.) is a new TV movie updating Agatha Christie's 1924 mystery novel about a young American woman (Stephanie Zimbalist) traveling through Egypt in search of adventure. Rue McClanahan, Tony Randall and Edward Woodward star. Rob Reiner's 1984 This Is Spinal Tap (Channel 28 Friday at 11:30 p.m.) is one of the funniest movies of the decade, a delicious sendup on the making of a rock documentary in which Reiner casts himself as a film maker trying to make a record of a seedy English group on tour. The line between parody and reality becomes exceedingly and riotously thin. The dreadful 1986 comedy Armed and Dangerous (CBS Saturday at 8 p.m.) plays like a third-generation dupe print of \"Police Academy,\" with frantic splices from \"Beverly Hills Cop.\" John Candy and Eugene Levy star as a pair of goofy misfits adrift in a Los Angeles populated entirely by bozos, nitwits, boobs and cads. Brian De Palma's 1983 remake of Howard Hawks' 1932 gangster classic Scarface (ABC Saturday at 8 p.m.) moves the action from Chicago in the '20s to Miami's Cuban community of the present, but for all its operatic razzle-dazzle, it becomes a lurid exercise in wretched excess. Al Pacino has the title role as a doomed drug kingpin. The ratings checks on movies in the TV log are provided by the Tribune TV Log listings service. \n",
      "\n"
     ]
    }
   ],
   "source": [
    "with open(\"filtered.csv\",\"r\") as file:\n",
    "    for i in range(10):\n",
    "        print(file.readline())"
   ]
  },
  {
   "cell_type": "markdown",
   "metadata": {},
   "source": [
    "Now we are going to tokenize the words giving a list of stopwords (punctiuation and common words in english), for the stemming process we are going to use snowball instead of porter : it's more powerful (ex: fairly with porter > fairli, with snowball > fair)"
   ]
  },
  {
   "cell_type": "code",
   "execution_count": 4,
   "metadata": {},
   "outputs": [],
   "source": [
    "list = set([])\n",
    "stop_words = stopwords.words('english')\n",
    "stop_words.extend([\"the\"])\n",
    "stop_words = set(stop_words)\n",
    "stemmer = SnowballStemmer('english')\n",
    "with open(\"tokens.csv\",\"w+\") as fileout: \n",
    "    with open(\"filtered.csv\",\"r\") as file:\n",
    "          for line in file:\n",
    "            article = re.sub(r'[^\\w]', ' ', line.split(\"#\")[1])\n",
    "            tokens = word_tokenize(re.sub(r\"\\d+\", \"\", article.lower()))\n",
    "            tokens = [w for w in tokens if w not in stop_words]\n",
    "            tokens = [stemmer.stem(w) for w in tokens]\n",
    "            list = list.union(set(tokens))\n",
    "            fileout.writelines(line.split(\"#\")[0]+\"#\"+'\"['+str(tokens)[1:-1]+']\"'+\"\\n\")\n",
    "with open(\"list.csv\",\"w+\") as file:\n",
    "          for item in list:\n",
    "              file.writelines(item+\"\\n\")"
   ]
  },
  {
   "cell_type": "markdown",
   "metadata": {},
   "source": [
    "now we need to create the inverted file, first by creating the VOC, for this we just need to create this small function"
   ]
  },
  {
   "cell_type": "code",
   "execution_count": 5,
   "metadata": {},
   "outputs": [],
   "source": [
    "def load_voc(filename):\n",
    "    with open(filename,\"r\") as file:\n",
    "        i = 0\n",
    "        voc = {}\n",
    "        for line in file:\n",
    "            voc[line[:-1]] = i\n",
    "            i+=1\n",
    "    return voc"
   ]
  },
  {
   "cell_type": "code",
   "execution_count": 6,
   "metadata": {},
   "outputs": [
    {
     "name": "stdout",
     "output_type": "stream",
     "text": [
      "('alcoa', 0)\n",
      "('lamiell', 1)\n",
      "('warco', 2)\n",
      "('tousey', 3)\n",
      "('oakton', 4)\n",
      "('bondelli', 5)\n",
      "('boujay', 6)\n",
      "('keif', 7)\n",
      "('aaftink', 8)\n",
      "('schwam', 9)\n"
     ]
    }
   ],
   "source": [
    "voc = load_voc(\"list.csv\")\n",
    "i = 10\n",
    "for item in voc.items():\n",
    "    print(item)\n",
    "    i-=1\n",
    "    if i == 0:\n",
    "        break"
   ]
  },
  {
   "cell_type": "code",
   "execution_count": 7,
   "metadata": {},
   "outputs": [
    {
     "name": "stdout",
     "output_type": "stream",
     "text": [
      "171352\n"
     ]
    }
   ],
   "source": [
    "print(len(voc))"
   ]
  },
  {
   "cell_type": "markdown",
   "metadata": {},
   "source": [
    "Now we create the PL file by inversing the file created previously, for this we use first panda in order to optimize the requests we are going to do next"
   ]
  },
  {
   "cell_type": "code",
   "execution_count": 8,
   "metadata": {},
   "outputs": [
    {
     "data": {
      "text/html": [
       "<div>\n",
       "<style scoped>\n",
       "    .dataframe tbody tr th:only-of-type {\n",
       "        vertical-align: middle;\n",
       "    }\n",
       "\n",
       "    .dataframe tbody tr th {\n",
       "        vertical-align: top;\n",
       "    }\n",
       "\n",
       "    .dataframe thead th {\n",
       "        text-align: right;\n",
       "    }\n",
       "</style>\n",
       "<table border=\"1\" class=\"dataframe\">\n",
       "  <thead>\n",
       "    <tr style=\"text-align: right;\">\n",
       "      <th></th>\n",
       "      <th>docID</th>\n",
       "      <th>tokens</th>\n",
       "    </tr>\n",
       "  </thead>\n",
       "  <tbody>\n",
       "    <tr>\n",
       "      <th>0</th>\n",
       "      <td>1</td>\n",
       "      <td>[new, fallout, chernobyl, onset, new, gorbache...</td>\n",
       "    </tr>\n",
       "    <tr>\n",
       "      <th>1</th>\n",
       "      <td>2</td>\n",
       "      <td>[aristocrat, independ, voter, andr, jardin, to...</td>\n",
       "    </tr>\n",
       "    <tr>\n",
       "      <th>2</th>\n",
       "      <td>3</td>\n",
       "      <td>[peruvian, memori, shine, path, read, tungsten...</td>\n",
       "    </tr>\n",
       "    <tr>\n",
       "      <th>3</th>\n",
       "      <td>4</td>\n",
       "      <td>[extinct, land, fire, four, tribe, extinct, na...</td>\n",
       "    </tr>\n",
       "    <tr>\n",
       "      <th>4</th>\n",
       "      <td>11</td>\n",
       "      <td>[cover, shirley, templ, black, play, return, e...</td>\n",
       "    </tr>\n",
       "  </tbody>\n",
       "</table>\n",
       "</div>"
      ],
      "text/plain": [
       "   docID                                             tokens\n",
       "0      1  [new, fallout, chernobyl, onset, new, gorbache...\n",
       "1      2  [aristocrat, independ, voter, andr, jardin, to...\n",
       "2      3  [peruvian, memori, shine, path, read, tungsten...\n",
       "3      4  [extinct, land, fire, four, tribe, extinct, na...\n",
       "4     11  [cover, shirley, templ, black, play, return, e..."
      ]
     },
     "execution_count": 8,
     "metadata": {},
     "output_type": "execute_result"
    }
   ],
   "source": [
    "PL =  pd.read_csv('tokens.csv', sep='#', names=['docID','tokens'], header=None, converters={'tokens': ast.literal_eval})\n",
    "PL.head()"
   ]
  },
  {
   "cell_type": "code",
   "execution_count": 9,
   "metadata": {},
   "outputs": [
    {
     "data": {
      "text/plain": [
       "131895"
      ]
     },
     "execution_count": 9,
     "metadata": {},
     "output_type": "execute_result"
    }
   ],
   "source": [
    "len(PL)"
   ]
  },
  {
   "cell_type": "markdown",
   "metadata": {},
   "source": [
    "We are not going to use chunks because pandas don't know the size of the file, so we are obliged to process iteratively the chunks, which is very costly in time processing"
   ]
  },
  {
   "cell_type": "code",
   "execution_count": 10,
   "metadata": {},
   "outputs": [
    {
     "name": "stdout",
     "output_type": "stream",
     "text": [
      "<class 'pandas.core.frame.DataFrame'>\n",
      "Int64Index: 131895 entries, 1 to 329694\n",
      "Data columns (total 1 columns):\n",
      "tokens    131895 non-null object\n",
      "dtypes: object(1)\n",
      "memory usage: 303.9 MB\n"
     ]
    }
   ],
   "source": [
    "PL =  pd.read_csv('tokens.csv', sep='#', names=['docID','tokens'], header=None, converters={'tokens': ast.literal_eval}, index_col=\"docID\")\n",
    "PL.info(memory_usage='deep')"
   ]
  },
  {
   "cell_type": "markdown",
   "metadata": {},
   "source": [
    "and then we create the PL file"
   ]
  },
  {
   "cell_type": "code",
   "execution_count": 11,
   "metadata": {},
   "outputs": [],
   "source": [
    "with open(\"PL.csv\",\"w+\") as fileout:\n",
    "    for item in voc.keys():\n",
    "        fileout.writelines(item+'#'+str(PL[PL['tokens'].apply(lambda x: item in x)].docID.unique().tolist())+'\\n')"
   ]
  },
  {
   "cell_type": "code",
   "execution_count": 12,
   "metadata": {},
   "outputs": [
    {
     "name": "stdout",
     "output_type": "stream",
     "text": [
      "alcoa#[19141, 28482, 29722, 30642, 47114, 82372, 92164, 93603, 100382, 121682, 148822, 163272, 163702, 180404, 205413, 244053, 248171, 257883, 268943, 271102, 283141, 282774, 290252, 291744, 291934, 293513, 304452, 305302, 325103]\n",
      "\n",
      "lamiell#[267192, 292053]\n",
      "\n",
      "warco#[9901]\n",
      "\n",
      "tousey#[190582]\n",
      "\n",
      "oakton#[893, 79334, 221553]\n",
      "\n",
      "bondelli#[256473]\n",
      "\n",
      "boujay#[53293]\n",
      "\n",
      "keif#[18242, 102254, 102431, 115293, 126993, 261572]\n",
      "\n",
      "aaftink#[150223, 171501]\n",
      "\n",
      "schwam#[76971, 170622]\n",
      "\n"
     ]
    }
   ],
   "source": [
    "with open(\"PL.csv\",\"r\") as file:\n",
    "    for i in range(10):\n",
    "        print(file.readline())"
   ]
  },
  {
   "cell_type": "code",
   "execution_count": 13,
   "metadata": {},
   "outputs": [],
   "source": [
    "PL =  pd.read_csv('tokens.csv', sep='#', names=['docID','tokens'], header=None, converters={'tokens': ast.literal_eval}, index_col=\"docID\")\n",
    "nbDocs = len(PL.docID)\n",
    "\n",
    "with open(\"if.csv\",\"w+\") as fileout:\n",
    "    with open(\"PL.csv\",\"r\") as file:\n",
    "        for line in file:\n",
    "            token = line.split(\"#\")[0]\n",
    "            list = ast.literal_eval(line.split(\"#\")[1][:-1])\n",
    "            results = {}\n",
    "            idf = math.log(nbDocs/(1+len(list)))\n",
    "            for id in list:\n",
    "                doc = PL.loc[id].tokens\n",
    "                tf = len([w for w in doc if w == token]) / len(doc)\n",
    "                if tf > 0:\n",
    "                    tf = 1 + math.log(tf)\n",
    "                results[id] = tf * idf\n",
    "            results = sorted(results.items(), key=operator.itemgetter(1), reverse=True)\n",
    "            fileout.writelines(str(results)+\"\\n\")"
   ]
  },
  {
   "cell_type": "code",
   "execution_count": 14,
   "metadata": {},
   "outputs": [
    {
     "name": "stdout",
     "output_type": "stream",
     "text": [
      "[(293513, 21.889437059870144), (93603, 14.203073568204506), (163702, 14.203073568204506), (205413, 14.203073568204506), (282774, 14.203073568204506), (305302, 14.203073568204506), (19141, 8.388564048819056), (28482, 8.388564048819056), (29722, 8.388564048819056), (30642, 8.388564048819056), (47114, 8.388564048819056), (82372, 8.388564048819056), (92164, 8.388564048819056), (100382, 8.388564048819056), (121682, 8.388564048819056), (148822, 8.388564048819056), (163272, 8.388564048819056), (180404, 8.388564048819056), (244053, 8.388564048819056), (248171, 8.388564048819056), (257883, 8.388564048819056), (268943, 8.388564048819056), (271102, 8.388564048819056), (283141, 8.388564048819056), (290252, 8.388564048819056), (291744, 8.388564048819056), (291934, 8.388564048819056), (304452, 8.388564048819056), (325103, 8.388564048819056)]\n",
      "\n",
      "[(267192, 29.847116853586122), (292053, 18.101689026406735)]\n",
      "\n",
      "[(9901, 18.788201131015505)]\n",
      "\n",
      "[(190582, 18.788201131015505)]\n",
      "\n",
      "[(893, 10.403467069361321), (79334, 10.403467069361321), (221553, 10.403467069361321)]\n",
      "\n",
      "[(256473, 11.096614249921267)]\n",
      "\n",
      "[(53293, 11.096614249921267)]\n",
      "\n",
      "[(115293, 23.49032680456943), (126993, 20.65842726702171), (102431, 16.667089042997667), (18242, 9.843851281425898), (102254, 9.843851281425898), (261572, 9.843851281425898)]\n",
      "\n",
      "[(150223, 10.691149141813103), (171501, 10.691149141813103)]\n",
      "\n",
      "[(76971, 10.691149141813103), (170622, 10.691149141813103)]\n",
      "\n"
     ]
    }
   ],
   "source": [
    "with open(\"if.csv\",\"r\") as file:\n",
    "    for i in range(10):\n",
    "        print(file.readline())"
   ]
  },
  {
   "cell_type": "markdown",
   "metadata": {},
   "source": [
    "Since the articles are not really sorted by id on the original file, we are going to make a structure stored in memory that map each docID with it's location on the original file in order to extract the text"
   ]
  },
  {
   "cell_type": "code",
   "execution_count": 15,
   "metadata": {},
   "outputs": [],
   "source": [
    "articles = {}\n",
    "i = 1\n",
    "with open(\"filtered.csv\",\"r\") as file:\n",
    "    for line in file:\n",
    "        articles[line.split(\"#\")[0]] = i\n",
    "        i+=1\n",
    "with open(\"article_list.csv\",\"w+\") as file:\n",
    "    file.writelines(str(articles))"
   ]
  }
 ],
 "metadata": {
  "kernelspec": {
   "display_name": "Python 3",
   "language": "python",
   "name": "python3"
  },
  "language_info": {
   "codemirror_mode": {
    "name": "ipython",
    "version": 3
   },
   "file_extension": ".py",
   "mimetype": "text/x-python",
   "name": "python",
   "nbconvert_exporter": "python",
   "pygments_lexer": "ipython3",
   "version": "3.7.3"
  }
 },
 "nbformat": 4,
 "nbformat_minor": 2
}
