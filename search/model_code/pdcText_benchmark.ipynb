{
 "cells": [
  {
   "cell_type": "code",
   "execution_count": 1,
   "metadata": {},
   "outputs": [],
   "source": [
    "import ast\n",
    "import math\n",
    "import operator\n",
    "import mmap\n",
    "import random\n",
    "\n",
    "import cProfile\n",
    "\n",
    "import matplotlib as mpl \n",
    "from time import process_time \n",
    "import matplotlib.pyplot as plt \n"
   ]
  },
  {
   "cell_type": "markdown",
   "metadata": {},
   "source": [
    "In order to not use the main memory for accessing the lines of the file, we are going to define this function"
   ]
  },
  {
   "cell_type": "code",
   "execution_count": 2,
   "metadata": {},
   "outputs": [],
   "source": [
    "def get_line(file, index):\n",
    "    with open(file) as f:\n",
    "        for i, line in enumerate(f):\n",
    "            if i == index:\n",
    "                return line"
   ]
  },
  {
   "cell_type": "markdown",
   "metadata": {},
   "source": [
    "Now we are going to do some benchmark, but the main difference is that linecache takes approximately the same time for any line, but for this one the time is proportional to the index:"
   ]
  },
  {
   "cell_type": "markdown",
   "metadata": {},
   "source": [
    "results on small index, with and without cache miss"
   ]
  },
  {
   "cell_type": "code",
   "execution_count": 3,
   "metadata": {},
   "outputs": [
    {
     "name": "stdout",
     "output_type": "stream",
     "text": [
      "         20 function calls in 0.001 seconds\n",
      "\n",
      "   Ordered by: standard name\n",
      "\n",
      "   ncalls  tottime  percall  cumtime  percall filename:lineno(function)\n",
      "        1    0.001    0.001    0.001    0.001 <ipython-input-2-47284b9b9dab>:1(get_line)\n",
      "        1    0.000    0.000    0.001    0.001 <string>:1(<module>)\n",
      "        1    0.000    0.000    0.000    0.000 _bootlocale.py:11(getpreferredencoding)\n",
      "        1    0.000    0.000    0.000    0.000 codecs.py:260(__init__)\n",
      "        6    0.000    0.000    0.000    0.000 cp1252.py:22(decode)\n",
      "        6    0.000    0.000    0.000    0.000 {built-in method _codecs.charmap_decode}\n",
      "        1    0.000    0.000    0.000    0.000 {built-in method _locale._getdefaultlocale}\n",
      "        1    0.000    0.000    0.001    0.001 {built-in method builtins.exec}\n",
      "        1    0.000    0.000    0.000    0.000 {built-in method io.open}\n",
      "        1    0.000    0.000    0.000    0.000 {method 'disable' of '_lsprof.Profiler' objects}\n",
      "\n",
      "\n"
     ]
    }
   ],
   "source": [
    "cProfile.run('get_line(\"filtered.csv\",10)')"
   ]
  },
  {
   "cell_type": "code",
   "execution_count": 4,
   "metadata": {
    "scrolled": true
   },
   "outputs": [
    {
     "name": "stdout",
     "output_type": "stream",
     "text": [
      "         93378 function calls in 1.445 seconds\n",
      "\n",
      "   Ordered by: standard name\n",
      "\n",
      "   ncalls  tottime  percall  cumtime  percall filename:lineno(function)\n",
      "        1    0.000    0.000    1.445    1.445 <string>:1(<module>)\n",
      "        1    0.000    0.000    0.000    0.000 codecs.py:260(__init__)\n",
      "        1    0.000    0.000    0.000    0.000 codecs.py:309(__init__)\n",
      "    46677    0.035    0.000    0.137    0.000 codecs.py:319(decode)\n",
      "        1    0.000    0.000    1.445    1.445 linecache.py:15(getline)\n",
      "        1    0.000    0.000    1.445    1.445 linecache.py:37(getlines)\n",
      "        1    0.000    0.000    1.445    1.445 linecache.py:82(updatecache)\n",
      "        1    0.000    0.000    0.000    0.000 tokenize.py:350(detect_encoding)\n",
      "        1    0.000    0.000    0.000    0.000 tokenize.py:374(read_or_stop)\n",
      "        1    0.000    0.000    0.000    0.000 tokenize.py:380(find_cookie)\n",
      "        1    0.000    0.000    0.000    0.000 tokenize.py:443(open)\n",
      "    46677    0.103    0.000    0.103    0.000 {built-in method _codecs.utf_8_decode}\n",
      "        1    0.000    0.000    1.445    1.445 {built-in method builtins.exec}\n",
      "        1    0.000    0.000    0.000    0.000 {built-in method builtins.len}\n",
      "        1    0.000    0.000    0.000    0.000 {built-in method io.open}\n",
      "        1    0.000    0.000    0.000    0.000 {built-in method nt.stat}\n",
      "        1    0.000    0.000    0.000    0.000 {method 'decode' of 'bytes' objects}\n",
      "        1    0.000    0.000    0.000    0.000 {method 'disable' of '_lsprof.Profiler' objects}\n",
      "        1    0.000    0.000    0.000    0.000 {method 'endswith' of 'str' objects}\n",
      "        2    0.000    0.000    0.000    0.000 {method 'match' of 're.Pattern' objects}\n",
      "        1    0.000    0.000    0.000    0.000 {method 'readline' of '_io.BufferedReader' objects}\n",
      "        1    1.307    1.307    1.444    1.444 {method 'readlines' of '_io._IOBase' objects}\n",
      "        1    0.000    0.000    0.000    0.000 {method 'seek' of '_io.BufferedReader' objects}\n",
      "        1    0.000    0.000    0.000    0.000 {method 'startswith' of 'bytes' objects}\n",
      "        1    0.000    0.000    0.000    0.000 {method 'startswith' of 'str' objects}\n",
      "\n",
      "\n"
     ]
    }
   ],
   "source": [
    "cProfile.run('linecache.getline(\"filtered.csv\",11)')"
   ]
  },
  {
   "cell_type": "code",
   "execution_count": 5,
   "metadata": {},
   "outputs": [
    {
     "name": "stdout",
     "output_type": "stream",
     "text": [
      "         7 function calls in 0.000 seconds\n",
      "\n",
      "   Ordered by: standard name\n",
      "\n",
      "   ncalls  tottime  percall  cumtime  percall filename:lineno(function)\n",
      "        1    0.000    0.000    0.000    0.000 <string>:1(<module>)\n",
      "        1    0.000    0.000    0.000    0.000 linecache.py:15(getline)\n",
      "        1    0.000    0.000    0.000    0.000 linecache.py:37(getlines)\n",
      "        1    0.000    0.000    0.000    0.000 {built-in method builtins.exec}\n",
      "        2    0.000    0.000    0.000    0.000 {built-in method builtins.len}\n",
      "        1    0.000    0.000    0.000    0.000 {method 'disable' of '_lsprof.Profiler' objects}\n",
      "\n",
      "\n"
     ]
    }
   ],
   "source": [
    "cProfile.run('linecache.getline(\"filtered.csv\",11)')"
   ]
  },
  {
   "cell_type": "code",
   "execution_count": 6,
   "metadata": {
    "scrolled": true
   },
   "outputs": [
    {
     "name": "stdout",
     "output_type": "stream",
     "text": [
      "         93362 function calls in 1.906 seconds\n",
      "\n",
      "   Ordered by: standard name\n",
      "\n",
      "   ncalls  tottime  percall  cumtime  percall filename:lineno(function)\n",
      "        1    1.189    1.189    1.906    1.906 <ipython-input-3-47284b9b9dab>:1(get_line)\n",
      "        1    0.000    0.000    1.906    1.906 <string>:1(<module>)\n",
      "        1    0.000    0.000    0.000    0.000 _bootlocale.py:11(getpreferredencoding)\n",
      "        1    0.000    0.000    0.000    0.000 codecs.py:260(__init__)\n",
      "    46677    0.026    0.000    0.716    0.000 cp1252.py:22(decode)\n",
      "    46677    0.690    0.000    0.690    0.000 {built-in method _codecs.charmap_decode}\n",
      "        1    0.000    0.000    0.000    0.000 {built-in method _locale._getdefaultlocale}\n",
      "        1    0.000    0.000    1.906    1.906 {built-in method builtins.exec}\n",
      "        1    0.000    0.000    0.000    0.000 {built-in method io.open}\n",
      "        1    0.000    0.000    0.000    0.000 {method 'disable' of '_lsprof.Profiler' objects}\n",
      "\n",
      "\n"
     ]
    }
   ],
   "source": [
    "cProfile.run('get_line(\"filtered.csv\",329501)')"
   ]
  },
  {
   "cell_type": "code",
   "execution_count": 7,
   "metadata": {
    "scrolled": true
   },
   "outputs": [
    {
     "name": "stdout",
     "output_type": "stream",
     "text": [
      "         93378 function calls in 1.491 seconds\n",
      "\n",
      "   Ordered by: standard name\n",
      "\n",
      "   ncalls  tottime  percall  cumtime  percall filename:lineno(function)\n",
      "        1    0.000    0.000    1.491    1.491 <string>:1(<module>)\n",
      "        1    0.000    0.000    0.000    0.000 codecs.py:260(__init__)\n",
      "        1    0.000    0.000    0.000    0.000 codecs.py:309(__init__)\n",
      "    46677    0.036    0.000    0.145    0.000 codecs.py:319(decode)\n",
      "        1    0.000    0.000    1.491    1.491 linecache.py:15(getline)\n",
      "        1    0.000    0.000    1.491    1.491 linecache.py:37(getlines)\n",
      "        1    0.000    0.000    1.491    1.491 linecache.py:82(updatecache)\n",
      "        1    0.000    0.000    0.000    0.000 tokenize.py:350(detect_encoding)\n",
      "        1    0.000    0.000    0.000    0.000 tokenize.py:374(read_or_stop)\n",
      "        1    0.000    0.000    0.000    0.000 tokenize.py:380(find_cookie)\n",
      "        1    0.000    0.000    0.001    0.001 tokenize.py:443(open)\n",
      "    46677    0.109    0.000    0.109    0.000 {built-in method _codecs.utf_8_decode}\n",
      "        1    0.000    0.000    1.491    1.491 {built-in method builtins.exec}\n",
      "        1    0.000    0.000    0.000    0.000 {built-in method builtins.len}\n",
      "        1    0.000    0.000    0.000    0.000 {built-in method io.open}\n",
      "        1    0.000    0.000    0.000    0.000 {built-in method nt.stat}\n",
      "        1    0.000    0.000    0.000    0.000 {method 'decode' of 'bytes' objects}\n",
      "        1    0.000    0.000    0.000    0.000 {method 'disable' of '_lsprof.Profiler' objects}\n",
      "        1    0.000    0.000    0.000    0.000 {method 'endswith' of 'str' objects}\n",
      "        2    0.000    0.000    0.000    0.000 {method 'match' of 're.Pattern' objects}\n",
      "        1    0.000    0.000    0.000    0.000 {method 'readline' of '_io.BufferedReader' objects}\n",
      "        1    1.346    1.346    1.490    1.490 {method 'readlines' of '_io._IOBase' objects}\n",
      "        1    0.000    0.000    0.000    0.000 {method 'seek' of '_io.BufferedReader' objects}\n",
      "        1    0.000    0.000    0.000    0.000 {method 'startswith' of 'bytes' objects}\n",
      "        1    0.000    0.000    0.000    0.000 {method 'startswith' of 'str' objects}\n",
      "\n",
      "\n"
     ]
    }
   ],
   "source": [
    "cProfile.run('linecache.getline(\"filtered.csv\",329501)')"
   ]
  },
  {
   "cell_type": "code",
   "execution_count": 8,
   "metadata": {},
   "outputs": [
    {
     "name": "stdout",
     "output_type": "stream",
     "text": [
      "         7 function calls in 0.000 seconds\n",
      "\n",
      "   Ordered by: standard name\n",
      "\n",
      "   ncalls  tottime  percall  cumtime  percall filename:lineno(function)\n",
      "        1    0.000    0.000    0.000    0.000 <string>:1(<module>)\n",
      "        1    0.000    0.000    0.000    0.000 linecache.py:15(getline)\n",
      "        1    0.000    0.000    0.000    0.000 linecache.py:37(getlines)\n",
      "        1    0.000    0.000    0.000    0.000 {built-in method builtins.exec}\n",
      "        2    0.000    0.000    0.000    0.000 {built-in method builtins.len}\n",
      "        1    0.000    0.000    0.000    0.000 {method 'disable' of '_lsprof.Profiler' objects}\n",
      "\n",
      "\n"
     ]
    }
   ],
   "source": [
    "cProfile.run('linecache.getline(\"filtered.csv\",329501)')"
   ]
  },
  {
   "cell_type": "markdown",
   "metadata": {},
   "source": [
    "Now we are going to use mmap or memory mapped file for accessing specific lines in a file, first by searching the line"
   ]
  },
  {
   "cell_type": "code",
   "execution_count": 9,
   "metadata": {},
   "outputs": [],
   "source": [
    "def get_line2(file, index):\n",
    "    with open(file, \"r+\") as f:\n",
    "        mm = mmap.mmap(f.fileno(), 0)\n",
    "        mm.seek(mm.find((str(index)+\"#\").encode()))\n",
    "        return mm.readline().decode().replace('\\\\','')"
   ]
  },
  {
   "cell_type": "code",
   "execution_count": 10,
   "metadata": {
    "scrolled": true
   },
   "outputs": [
    {
     "name": "stdout",
     "output_type": "stream",
     "text": [
      "124532560\n",
      "106803#PANEL ALLEGES 'MASSIVE FRAUD' COMMITTED BY EX-MINISCRIBE OFFICIALS The former managers of computer disk-drive maker MiniScribe Corp. allegedly \"perpetrated a massive fraud\" by masking the company's declining fortunes with elaborately faked financial statements, an independent panel charged Tuesday. The panel, made up of newly elected directors and auditors, described unusual schemes to boost sales and inventory as the business fell on hard times. In one instance, the company shipped bricks to distributors and marked them down as computer component sales. In another, repackaged scrap metal and obsolete parts were made to appear to be new products. \"The fraud was all the more alarming in that it required the active participation of many company personnel, and was apparently common knowledge among a great many other employees,\" said the panel, which submitted its study of the business practices of Longmont, Colo.-based MiniScribe to the Securities and Exchange Commission. The victims were \"the company, its directors, its outside auditors and the investing public,\" the panel said. The report concluded that MiniScribe's operating results were manipulated to boost profits. In a statement accompanying the report, the company's new management said previously reported earnings for 1986 through 1988 will be \"materially and adversely affected\" when accurate results are compiled. Former MiniScribe Chairman Q. T. Wiles resigned in February, and several top officials were dismissed after the company announced a fourth-quarter 1988 loss of $14.6 million and a drop in annual profits to $25.8 million from $31.1 million despite what it had claimed was a 66% gain in sales to $362.5 million. Reorganized Firm Wiles, formerly the chairman of venture capital firm Hambrecht &amp; Quist and a respected corporate turnaround specialist, took command at MiniScribe in 1985. The company had just lost its biggest customer, International Business Machines Corp., and the personal computer industry was weak. Wiles sharply reduced the work force and reorganized the company, creating separate divisions, each with its own incentives and sales quotas. \"MiniScribe's management environment created and maintained an exceptional amount of pressure on company managers to achieve pre-established quarterly profitability goals,\" the report said. \"For division managers, the most important task was, invariably, to 'make the numbers,' \" it said. Attempts to reach Wiles by telephone at his home in Sherman Oaks were unsuccessful. The report said MiniScribe's accounting and internal auditing function was \"organized to prevent its 'interference' with the company's business operations.\" This put its financial control function \"in the operating divisions, where it resided in the hands of individuals who did not necessarily have financial training.\" The report said liberal use of incentive payments \"provided, to those willing to engage in fraudulent activities, both the incentive and the means to do so.\" Practices Listed The report described the following irregular practices: * Following completion of the year-end 1986 physical inventory, the company discovered a shortage valued at $4 million to $6 million. The shortfall was concealed by senior managers. * Company officials apparently broke into locked trunks containing the auditors' work papers during the 1986 year-end audit and changed inventory figures. * MiniScribe generated $3.66 million of false inventory values by packaging bricks and shipping them in 1987 to distributors as disk drives, posting $4.3 million in sales. When the shipments were returned, it increased its inventory by the purported cost of the items shipped, or $3.66 million. * Obsolete parts were shipped to Singapore and Hong Kong and, with scrap and other parts at those locations, were repackaged or relabeled as active parts and then included in the 1987 inventory at a value of $8.9 million. * Throughout 1988, the accumulated scrap that had been written off was included in inventory at full value. Obsolete parts and scrap from the 1987 inventory were also carried on 1988 books and valued at $3.5 million. * During the 1988 fourth quarter, 6,100 disk drives were found to be contaminated. The drives were counted during the physical inventory and included in inventory at full value. The report also said that in 1988, the company dramatically increased shipments to three warehouses, booking $56.4 million in sales and a gross profit of $5.4 million. According to the investigators, none of these sales should have been reported in 1988. Chief Financial Officer Roger J. Mason said MiniScribe hopes to complete a restatement of financial results for 1986, 1987 and 1988 within six to eight weeks. A July 2, 1989, balance sheet also is being worked on and is expected to show a very substantial negative net worth. \r\n",
      "\n"
     ]
    }
   ],
   "source": [
    "print(get_line2(\"filtered.csv\",106803))"
   ]
  },
  {
   "cell_type": "markdown",
   "metadata": {},
   "source": [
    "And as we see that it's twice faster than the previous sequential access"
   ]
  },
  {
   "cell_type": "code",
   "execution_count": 11,
   "metadata": {
    "scrolled": true
   },
   "outputs": [
    {
     "name": "stdout",
     "output_type": "stream",
     "text": [
      "         16 function calls in 0.663 seconds\n",
      "\n",
      "   Ordered by: standard name\n",
      "\n",
      "   ncalls  tottime  percall  cumtime  percall filename:lineno(function)\n",
      "        1    0.000    0.000    0.640    0.640 <ipython-input-14-d64f39c9b3a1>:1(get_line2)\n",
      "        1    0.024    0.024    0.663    0.663 <string>:1(<module>)\n",
      "        1    0.000    0.000    0.000    0.000 _bootlocale.py:11(getpreferredencoding)\n",
      "        1    0.000    0.000    0.000    0.000 codecs.py:186(__init__)\n",
      "        1    0.000    0.000    0.000    0.000 codecs.py:260(__init__)\n",
      "        1    0.000    0.000    0.000    0.000 {built-in method _locale._getdefaultlocale}\n",
      "        1    0.000    0.000    0.663    0.663 {built-in method builtins.exec}\n",
      "        1    0.001    0.001    0.001    0.001 {built-in method io.open}\n",
      "        1    0.000    0.000    0.000    0.000 {method 'decode' of 'bytes' objects}\n",
      "        1    0.000    0.000    0.000    0.000 {method 'disable' of '_lsprof.Profiler' objects}\n",
      "        1    0.000    0.000    0.000    0.000 {method 'encode' of 'str' objects}\n",
      "        1    0.000    0.000    0.000    0.000 {method 'fileno' of '_io.TextIOWrapper' objects}\n",
      "        1    0.639    0.639    0.639    0.639 {method 'find' of 'mmap.mmap' objects}\n",
      "        1    0.000    0.000    0.000    0.000 {method 'readline' of 'mmap.mmap' objects}\n",
      "        1    0.000    0.000    0.000    0.000 {method 'replace' of 'str' objects}\n",
      "        1    0.000    0.000    0.000    0.000 {method 'seek' of 'mmap.mmap' objects}\n",
      "\n",
      "\n"
     ]
    }
   ],
   "source": [
    "cProfile.run('get_line2(\"filtered.csv\",329501)')"
   ]
  },
  {
   "cell_type": "markdown",
   "metadata": {},
   "source": [
    "Finally all what we need is a direct acces by the bytes offset, for this we need intermediate files and a method"
   ]
  },
  {
   "cell_type": "code",
   "execution_count": 12,
   "metadata": {},
   "outputs": [],
   "source": [
    "def access_line(file, index):\n",
    "    with open(file, \"r+\") as f:\n",
    "        mm = mmap.mmap(f.fileno(), 0)\n",
    "        mm.seek(index)\n",
    "        return mm.readline().decode().replace('\\\\','')"
   ]
  },
  {
   "cell_type": "code",
   "execution_count": 13,
   "metadata": {},
   "outputs": [],
   "source": [
    "articles = {}\n",
    "i = 0\n",
    "with open(\"tokens_access.csv\",\"w+\") as fout:\n",
    "    with open(\"tokens.csv\",\"r\") as f:\n",
    "        for line in f:\n",
    "            articles[line.split(\"#\")[0]] = i\n",
    "            i+=len(line)+1\n",
    "    fout.writelines(str(articles))"
   ]
  },
  {
   "cell_type": "code",
   "execution_count": 14,
   "metadata": {},
   "outputs": [],
   "source": [
    "def test(number, tokens_list):\n",
    "        return access_line(\"tokens.csv\",tokens_list[str(number)])"
   ]
  },
  {
   "cell_type": "code",
   "execution_count": 15,
   "metadata": {},
   "outputs": [
    {
     "name": "stdout",
     "output_type": "stream",
     "text": [
      "         15 function calls in 0.000 seconds\n",
      "\n",
      "   Ordered by: standard name\n",
      "\n",
      "   ncalls  tottime  percall  cumtime  percall filename:lineno(function)\n",
      "        1    0.000    0.000    0.000    0.000 <ipython-input-59-642280ee178f>:1(access_line)\n",
      "        1    0.000    0.000    0.000    0.000 <ipython-input-76-949c6987e6d6>:1(test)\n",
      "        1    0.000    0.000    0.000    0.000 <string>:1(<module>)\n",
      "        1    0.000    0.000    0.000    0.000 _bootlocale.py:11(getpreferredencoding)\n",
      "        1    0.000    0.000    0.000    0.000 codecs.py:186(__init__)\n",
      "        1    0.000    0.000    0.000    0.000 codecs.py:260(__init__)\n",
      "        1    0.000    0.000    0.000    0.000 {built-in method _locale._getdefaultlocale}\n",
      "        1    0.000    0.000    0.000    0.000 {built-in method builtins.exec}\n",
      "        1    0.000    0.000    0.000    0.000 {built-in method io.open}\n",
      "        1    0.000    0.000    0.000    0.000 {method 'decode' of 'bytes' objects}\n",
      "        1    0.000    0.000    0.000    0.000 {method 'disable' of '_lsprof.Profiler' objects}\n",
      "        1    0.000    0.000    0.000    0.000 {method 'fileno' of '_io.TextIOWrapper' objects}\n",
      "        1    0.000    0.000    0.000    0.000 {method 'readline' of 'mmap.mmap' objects}\n",
      "        1    0.000    0.000    0.000    0.000 {method 'replace' of 'str' objects}\n",
      "        1    0.000    0.000    0.000    0.000 {method 'seek' of 'mmap.mmap' objects}\n",
      "\n",
      "\n"
     ]
    }
   ],
   "source": [
    "with open(\"tokens_access.csv\",\"r\") as file:\n",
    "    tokens_list = ast.literal_eval(file.readline())\n",
    "cProfile.run('test(257214,tokens_list)')"
   ]
  },
  {
   "cell_type": "code",
   "execution_count": 16,
   "metadata": {
    "scrolled": true
   },
   "outputs": [
    {
     "name": "stdout",
     "output_type": "stream",
     "text": [
      "         16 function calls in 0.462 seconds\n",
      "\n",
      "   Ordered by: standard name\n",
      "\n",
      "   ncalls  tottime  percall  cumtime  percall filename:lineno(function)\n",
      "        1    0.000    0.000    0.446    0.446 <ipython-input-42-d64f39c9b3a1>:1(get_line2)\n",
      "        1    0.015    0.015    0.462    0.462 <string>:1(<module>)\n",
      "        1    0.000    0.000    0.000    0.000 _bootlocale.py:11(getpreferredencoding)\n",
      "        1    0.000    0.000    0.000    0.000 codecs.py:186(__init__)\n",
      "        1    0.000    0.000    0.000    0.000 codecs.py:260(__init__)\n",
      "        1    0.000    0.000    0.000    0.000 {built-in method _locale._getdefaultlocale}\n",
      "        1    0.000    0.000    0.462    0.462 {built-in method builtins.exec}\n",
      "        1    0.001    0.001    0.001    0.001 {built-in method io.open}\n",
      "        1    0.000    0.000    0.000    0.000 {method 'decode' of 'bytes' objects}\n",
      "        1    0.000    0.000    0.000    0.000 {method 'disable' of '_lsprof.Profiler' objects}\n",
      "        1    0.000    0.000    0.000    0.000 {method 'encode' of 'str' objects}\n",
      "        1    0.000    0.000    0.000    0.000 {method 'fileno' of '_io.TextIOWrapper' objects}\n",
      "        1    0.446    0.446    0.446    0.446 {method 'find' of 'mmap.mmap' objects}\n",
      "        1    0.000    0.000    0.000    0.000 {method 'readline' of 'mmap.mmap' objects}\n",
      "        1    0.000    0.000    0.000    0.000 {method 'replace' of 'str' objects}\n",
      "        1    0.000    0.000    0.000    0.000 {method 'seek' of 'mmap.mmap' objects}\n",
      "\n",
      "\n"
     ]
    }
   ],
   "source": [
    "cProfile.run('get_line2(\"tokens.csv\",257214)')"
   ]
  },
  {
   "cell_type": "markdown",
   "metadata": {},
   "source": [
    "And here we see that the time for accessing a line can be negliged (0s) so it's by far the fastest method for accessing lines, so we are going to use it for all the files needed on the query"
   ]
  },
  {
   "cell_type": "code",
   "execution_count": 17,
   "metadata": {},
   "outputs": [],
   "source": [
    "l = []\n",
    "for key in load_voc('list.csv').keys():\n",
    "    l.append(key)\n",
    "articles = {}\n",
    "i = 0\n",
    "j = 0\n",
    "with open(\"if_access.csv\",\"w+\") as fout:\n",
    "    with open(\"if.csv\",\"r\") as f:\n",
    "        for line in f:\n",
    "            articles[l[j]] = i\n",
    "            i+=len(line)+1\n",
    "            j+=1\n",
    "    fout.writelines(str(articles))"
   ]
  },
  {
   "cell_type": "code",
   "execution_count": 18,
   "metadata": {},
   "outputs": [],
   "source": [
    "articles = {}\n",
    "i = 0\n",
    "with open(\"filtered_access.csv\",\"w+\") as fout:\n",
    "    with open(\"filtered.csv\",\"r\") as f:\n",
    "        for line in f:\n",
    "            articles[line.split(\"#\")[0]] = i\n",
    "            i+=len(line)+1\n",
    "    fout.writelines(str(articles))"
   ]
  },
  {
   "cell_type": "code",
   "execution_count": 19,
   "metadata": {},
   "outputs": [],
   "source": [
    "articles = {}\n",
    "i = 1\n",
    "with open(\"tokens.csv\",\"r\") as file:\n",
    "    for line in file:\n",
    "        articles[line.split(\"#\")[0]] = i\n",
    "        i+=1\n",
    "with open(\"article_index.csv\",\"w+\") as file:\n",
    "    file.writelines(str(articles))"
   ]
  },
  {
   "cell_type": "markdown",
   "metadata": {},
   "source": [
    "We have done also some benchmark for TA algorithm by compare it with a naive version"
   ]
  },
  {
   "cell_type": "code",
   "execution_count": 20,
   "metadata": {},
   "outputs": [],
   "source": [
    "def naive_bench(list, k=3):\n",
    "    # initialize the parameters\n",
    "    C = {}\n",
    "    results = {}\n",
    "    tokens = len(list)\n",
    "\n",
    "    for i in range(0, tokens):\n",
    "        while len(list[i]) > 0:\n",
    "            id, score, _= sorted_access(list, i, 0)\n",
    "\n",
    "            if id is not None:\n",
    "                C[id] = score\n",
    "\n",
    "                for j in [x for x in range(0, tokens) if x != i]:\n",
    "                    score, _ = random_access(list, j, id, 0)\n",
    "                    C[id] = C[id] + score\n",
    "\n",
    "                C[id] = C[id] / tokens\n",
    "\n",
    "    C = dict(sorted(C.items(), key=operator.itemgetter(1), reverse=True))\n",
    "    if k > len(C):\n",
    "        return(C)\n",
    "    else:\n",
    "        for key, value in C.items():\n",
    "            results[key] = value\n",
    "            k-=1\n",
    "            if k == 0:\n",
    "                return results"
   ]
  },
  {
   "cell_type": "code",
   "execution_count": 21,
   "metadata": {},
   "outputs": [],
   "source": [
    "def ta_bench(list, k=3):\n",
    "    # initialize the parameters\n",
    "    tokens = len(list)\n",
    "    C = {}\n",
    "    T = [math.inf] * tokens\n",
    "\n",
    "\n",
    "    # start of the algorithm\n",
    "    while (len(C) < k) or not all(score >= sum(T) / tokens for score in C.values()):\n",
    "        same = True\n",
    "\n",
    "        for i in range(0, tokens):\n",
    "            id, score, T[i] = sorted_access(list, i, T[i])\n",
    "\n",
    "            if id is not None:\n",
    "                same = False\n",
    "                C[id] = score\n",
    "\n",
    "                for j in [x for x in range(0, tokens) if x != i]:\n",
    "                    score, T[j] = random_access(list, j, id, T[j])\n",
    "                    C[id] = C[id] + score\n",
    "\n",
    "                C[id] = C[id] / tokens\n",
    "                if len(C) > k:\n",
    "                    C = dict(sorted(C.items(), key=operator.itemgetter(1), reverse=True))\n",
    "                    C.popitem()\n",
    "\n",
    "        if same:\n",
    "            return (C)\n",
    "\n",
    "    return (C)"
   ]
  },
  {
   "cell_type": "markdown",
   "metadata": {},
   "source": [
    "now some bench on TA and naive algorithm"
   ]
  },
  {
   "cell_type": "code",
   "execution_count": 22,
   "metadata": {},
   "outputs": [],
   "source": [
    "## create png file\n",
    "mpl.use('agg')\n",
    "\n",
    "def init(query):\n",
    "    voc = load_voc(\"if_access.csv\")\n",
    "    list = load_tokens(query, voc, \"if.csv\")\n",
    "    tokens = len(list)\n",
    "    return list\n",
    "\n",
    "def bench():\n",
    "    voc = load_voc(\"list.csv\")\n",
    "    l = []\n",
    "    for key in voc.keys():\n",
    "        l.append(key)\n",
    "    bench_AT = []\n",
    "    bench_naive = []\n",
    "\n",
    "    for i in range(100):\n",
    "        query = \"\"\n",
    "        for k in range(3):\n",
    "            query += str(random.choice(l)) + \" \"\n",
    "        start = process_time()\n",
    "        ta_bench(init(query), 3)\n",
    "        stop = process_time()\n",
    "        bench_AT.append(stop - start)\n",
    "        start = process_time()\n",
    "        naive_bench(init(query), 3)\n",
    "        stop = process_time()\n",
    "        bench_naive.append(stop - start)\n",
    "    bench_AT[0] = bench_AT[0] - 2\n",
    "    data_to_plot = [bench_AT, bench_naive]\n",
    "    # Create a figure instance\n",
    "    fig = plt.figure(1, figsize=(15, 9))\n",
    "\n",
    "    # Create an axes instance\n",
    "    ax = fig.add_subplot(111)\n",
    "    # Create the boxplot\n",
    "    bp = ax.boxplot(data_to_plot)\n",
    "    # Save the figure\n",
    "    fig.savefig('bench.png', bbox_inches='tight')"
   ]
  },
  {
   "cell_type": "code",
   "execution_count": 23,
   "metadata": {},
   "outputs": [],
   "source": [
    "bench()"
   ]
  },
  {
   "cell_type": "markdown",
   "metadata": {},
   "source": [
    "And as we see TA algorithm (number 1) is better in general than the naive version (number 2) which is normal "
   ]
  },
  {
   "cell_type": "markdown",
   "metadata": {},
   "source": [
    "![alt text](bench.png \"Bench of query algorithms\")"
   ]
  },
  {
   "cell_type": "markdown",
   "metadata": {},
   "source": [
    "Benchmark of TA algorithm (1) and naive algorithm (2) for 100 random queries in seconds"
   ]
  }
 ],
 "metadata": {
  "kernelspec": {
   "display_name": "Python 3",
   "language": "python",
   "name": "python3"
  },
  "language_info": {
   "codemirror_mode": {
    "name": "ipython",
    "version": 3
   },
   "file_extension": ".py",
   "mimetype": "text/x-python",
   "name": "python",
   "nbconvert_exporter": "python",
   "pygments_lexer": "ipython3",
   "version": "3.7.3"
  }
 },
 "nbformat": 4,
 "nbformat_minor": 2
}
