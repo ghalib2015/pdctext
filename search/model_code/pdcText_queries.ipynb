{
 "cells": [
  {
   "cell_type": "code",
   "execution_count": 1,
   "metadata": {},
   "outputs": [],
   "source": [
    "import nltk\n",
    "from nltk import word_tokenize\n",
    "from nltk.corpus import stopwords\n",
    "from nltk.stem.snowball import SnowballStemmer\n",
    "import re\n",
    "\n",
    "import ast\n",
    "import math\n",
    "import operator\n",
    "import mmap\n",
    "\n",
    "import gzip\n",
    "import gensim\n",
    "import logging\n",
    "import os\n",
    "import ast"
   ]
  },
  {
   "cell_type": "markdown",
   "metadata": {},
   "source": [
    "And now we have the if file, we can make our query algorithm, the TA (threshould) algorithm, for this we need first to define some functions"
   ]
  },
  {
   "cell_type": "code",
   "execution_count": 2,
   "metadata": {},
   "outputs": [],
   "source": [
    "def sorted_access(list, index, T):\n",
    "    if len(list[index]) == 0:\n",
    "        return None, None, T\n",
    "    else:\n",
    "        id, score = next(iter(list[index].items()))\n",
    "        del list[index][id]\n",
    "    return id, score, score\n",
    "\n",
    "\n",
    "def random_access(list, index, id, T):\n",
    "    if len(list[index]) == 0:\n",
    "        return 0, 0\n",
    "    elif id not in list[index]:\n",
    "        return 0, T\n",
    "    else:\n",
    "        score = list[index][id]\n",
    "        if id == next(iter(list[index].keys())):\n",
    "            T = score\n",
    "        del list[index][id]\n",
    "        return score, T"
   ]
  },
  {
   "cell_type": "markdown",
   "metadata": {},
   "source": [
    "we can try it on the example of the course"
   ]
  },
  {
   "cell_type": "code",
   "execution_count": 3,
   "metadata": {},
   "outputs": [
    {
     "name": "stdout",
     "output_type": "stream",
     "text": [
      "{2: 0.825, 5: 0.8, 6: 0.72}\n"
     ]
    }
   ],
   "source": [
    "list = [{2:0.9,5:0.8,6:0.7,4:0.6,1:0.5,3:0.4},{3:0.85,5:0.8,2:0.75,6:0.74,1:0.74,4:0.7}]\n",
    "tokens = len(list)\n",
    "C = {}\n",
    "T = [math.inf] * tokens\n",
    "k=3\n",
    "\n",
    "# start of the algorithm\n",
    "while (len(C) < k) or not all(score >= sum(T) / tokens for score in C.values()):\n",
    "    same = True\n",
    "\n",
    "    for i in range(0, tokens):\n",
    "        id, score, T[i] = sorted_access(list, i, T[i])\n",
    "\n",
    "        if id is not None:\n",
    "            same = False\n",
    "            C[id] = score\n",
    "\n",
    "            for j in [x for x in range(0, tokens) if x != i]:\n",
    "                score, T[j] = random_access(list, j, id, T[j])\n",
    "                C[id] = C[id] + score\n",
    "\n",
    "            C[id] = C[id] / tokens\n",
    "            if len(C) > k:\n",
    "                C = dict(sorted(C.items(), key=operator.itemgetter(1), reverse=True))\n",
    "                C.popitem()\n",
    "\n",
    "    if same:\n",
    "        print(\"same\",C)\n",
    "        exit()\n",
    "\n",
    "print (C)"
   ]
  },
  {
   "cell_type": "markdown",
   "metadata": {},
   "source": [
    "and finally the real threshold algorithm with all the functions needed, and the support of \"or\" and \"and\" queries"
   ]
  },
  {
   "cell_type": "code",
   "execution_count": 4,
   "metadata": {},
   "outputs": [],
   "source": [
    "def access_line(file, index):\n",
    "    with open(file, \"r+\") as f:\n",
    "        mm = mmap.mmap(f.fileno(), 0)\n",
    "        mm.seek(index)\n",
    "        return mm.readline().decode().replace('\\\\','')"
   ]
  },
  {
   "cell_type": "code",
   "execution_count": 5,
   "metadata": {},
   "outputs": [],
   "source": [
    "def load_voc(filename):\n",
    "    with open(filename,\"r\") as file:\n",
    "        voc = ast.literal_eval(file.readline())\n",
    "    return voc"
   ]
  },
  {
   "cell_type": "code",
   "execution_count": 6,
   "metadata": {},
   "outputs": [],
   "source": [
    "def load_tokens(query, voc, file):\n",
    "    stop_words = stopwords.words('english')\n",
    "    stop_words.extend([\"the\"])\n",
    "    stop_words = set(stop_words)\n",
    "    stemmer = SnowballStemmer('english')\n",
    "    query = re.sub(r'[^\\w]', ' ', query)\n",
    "    tokens = word_tokenize(re.sub(r\"\\d+\", \"\", query.lower()))\n",
    "    tokens = [w for w in tokens if w not in stop_words]\n",
    "    tokens = set([stemmer.stem(w) for w in tokens])\n",
    "    list = [dict(ast.literal_eval(access_line(file, voc[token]))) for token in tokens if token in voc.keys()]\n",
    "    return list\n",
    "\n",
    "\n",
    "def filter_all(list):\n",
    "    index = 0\n",
    "    minimum = len(list[0])\n",
    "    for l in range(1, len(list)):\n",
    "        if len(list[l]) < minimum:\n",
    "            minimum = len(list[l])\n",
    "            index = l\n",
    "    for i in [x for x in range(0, len(list)) if x != index]:\n",
    "        delete = [key for key in list[index] if key not in list[i]]\n",
    "        for key in delete: del list[index][key]\n",
    "    for i in [x for x in range(0, len(list)) if x != index]:\n",
    "        delete = [key for key in list[i] if key not in list[index]]\n",
    "        for key in delete: del list[i][key]\n",
    "    return list"
   ]
  },
  {
   "cell_type": "code",
   "execution_count": 7,
   "metadata": {},
   "outputs": [],
   "source": [
    "def ta(query, k=3, all_terms=0):\n",
    "    # loading the lis    \n",
    "    voc = load_voc(\"if_access.csv\")\n",
    "    list = load_tokens(query, voc, \"if.csv\")\n",
    "    tokens = len(list)\n",
    "    if tokens == 0:\n",
    "        return None\n",
    "    if all_terms:\n",
    "        list = filter_all(list)\n",
    "\n",
    "    # initialize the parameters\n",
    "    C = {}\n",
    "    T = [math.inf] * tokens\n",
    "\n",
    "    # start of the algorithm\n",
    "    while (len(C) < k) or not all(score >= sum(T) / tokens for score in C.values()):\n",
    "        same = True\n",
    "\n",
    "        for i in range(0, tokens):\n",
    "            id, score, T[i] = sorted_access(list, i, T[i])\n",
    "\n",
    "            if id is not None:\n",
    "                same = False\n",
    "                C[id] = score\n",
    "\n",
    "                for j in [x for x in range(0, tokens) if x != i]:\n",
    "                    score, T[j] = random_access(list, j, id, T[j])\n",
    "                    C[id] = C[id] + score\n",
    "\n",
    "                C[id] = C[id] / tokens\n",
    "                if len(C) > k:\n",
    "                    C = dict(sorted(C.items(), key=operator.itemgetter(1), reverse=True))\n",
    "                    C.popitem()\n",
    "\n",
    "        if same:\n",
    "            return (C)\n",
    "\n",
    "    return (C)"
   ]
  },
  {
   "cell_type": "markdown",
   "metadata": {},
   "source": [
    "we can test it on this example for \"or\" and \"and\""
   ]
  },
  {
   "cell_type": "code",
   "execution_count": 8,
   "metadata": {},
   "outputs": [
    {
     "data": {
      "text/plain": [
       "{106803: 9.682111973959575, 6953: 9.612125479565474, 83602: 9.241174928546245}"
      ]
     },
     "execution_count": 8,
     "metadata": {},
     "output_type": "execute_result"
    }
   ],
   "source": [
    "ta(\"inventory organization\",3,0)"
   ]
  },
  {
   "cell_type": "code",
   "execution_count": 9,
   "metadata": {},
   "outputs": [
    {
     "data": {
      "text/plain": [
       "{106803: 9.682111973959575,\n",
       " 282354: 8.538468979317457,\n",
       " 11662: 7.338185328887775}"
      ]
     },
     "execution_count": 9,
     "metadata": {},
     "output_type": "execute_result"
    }
   ],
   "source": [
    "ta(\"inventory organization\",3,1)"
   ]
  },
  {
   "cell_type": "markdown",
   "metadata": {},
   "source": [
    "and the same result even like that"
   ]
  },
  {
   "cell_type": "code",
   "execution_count": 10,
   "metadata": {},
   "outputs": [
    {
     "data": {
      "text/plain": [
       "{106803: 9.682111973959575, 6953: 9.612125479565474, 83602: 9.241174928546245}"
      ]
     },
     "execution_count": 10,
     "metadata": {},
     "output_type": "execute_result"
    }
   ],
   "source": [
    "ta(\"The organized-inventory   ORGANIZATION\",3,0)"
   ]
  },
  {
   "cell_type": "code",
   "execution_count": 11,
   "metadata": {},
   "outputs": [
    {
     "data": {
      "text/plain": [
       "{106803: 9.682111973959575,\n",
       " 282354: 8.538468979317457,\n",
       " 11662: 7.338185328887775}"
      ]
     },
     "execution_count": 11,
     "metadata": {},
     "output_type": "execute_result"
    }
   ],
   "source": [
    "ta(\"The organized-inventory   ORGANIZATION\",3,1)"
   ]
  },
  {
   "cell_type": "markdown",
   "metadata": {},
   "source": [
    "Now we just need a small function to retireve all the articles of a query"
   ]
  },
  {
   "cell_type": "code",
   "execution_count": 12,
   "metadata": {},
   "outputs": [],
   "source": [
    "def load_articles(list):\n",
    "    articles_list = load_voc(\"filtered_access.csv\")\n",
    "    for id, score in list.items():\n",
    "        print(id,\": \",score)\n",
    "        print(access_line(\"filtered.csv\", articles_list[str(id)]).split(\"#\")[1])"
   ]
  },
  {
   "cell_type": "code",
   "execution_count": 13,
   "metadata": {},
   "outputs": [
    {
     "name": "stdout",
     "output_type": "stream",
     "text": [
      "106803 :  9.682111973959575\n",
      "PANEL ALLEGES 'MASSIVE FRAUD' COMMITTED BY EX-MINISCRIBE OFFICIALS The former managers of computer disk-drive maker MiniScribe Corp. allegedly \"perpetrated a massive fraud\" by masking the company's declining fortunes with elaborately faked financial statements, an independent panel charged Tuesday. The panel, made up of newly elected directors and auditors, described unusual schemes to boost sales and inventory as the business fell on hard times. In one instance, the company shipped bricks to distributors and marked them down as computer component sales. In another, repackaged scrap metal and obsolete parts were made to appear to be new products. \"The fraud was all the more alarming in that it required the active participation of many company personnel, and was apparently common knowledge among a great many other employees,\" said the panel, which submitted its study of the business practices of Longmont, Colo.-based MiniScribe to the Securities and Exchange Commission. The victims were \"the company, its directors, its outside auditors and the investing public,\" the panel said. The report concluded that MiniScribe's operating results were manipulated to boost profits. In a statement accompanying the report, the company's new management said previously reported earnings for 1986 through 1988 will be \"materially and adversely affected\" when accurate results are compiled. Former MiniScribe Chairman Q. T. Wiles resigned in February, and several top officials were dismissed after the company announced a fourth-quarter 1988 loss of $14.6 million and a drop in annual profits to $25.8 million from $31.1 million despite what it had claimed was a 66% gain in sales to $362.5 million. Reorganized Firm Wiles, formerly the chairman of venture capital firm Hambrecht &amp; Quist and a respected corporate turnaround specialist, took command at MiniScribe in 1985. The company had just lost its biggest customer, International Business Machines Corp., and the personal computer industry was weak. Wiles sharply reduced the work force and reorganized the company, creating separate divisions, each with its own incentives and sales quotas. \"MiniScribe's management environment created and maintained an exceptional amount of pressure on company managers to achieve pre-established quarterly profitability goals,\" the report said. \"For division managers, the most important task was, invariably, to 'make the numbers,' \" it said. Attempts to reach Wiles by telephone at his home in Sherman Oaks were unsuccessful. The report said MiniScribe's accounting and internal auditing function was \"organized to prevent its 'interference' with the company's business operations.\" This put its financial control function \"in the operating divisions, where it resided in the hands of individuals who did not necessarily have financial training.\" The report said liberal use of incentive payments \"provided, to those willing to engage in fraudulent activities, both the incentive and the means to do so.\" Practices Listed The report described the following irregular practices: * Following completion of the year-end 1986 physical inventory, the company discovered a shortage valued at $4 million to $6 million. The shortfall was concealed by senior managers. * Company officials apparently broke into locked trunks containing the auditors' work papers during the 1986 year-end audit and changed inventory figures. * MiniScribe generated $3.66 million of false inventory values by packaging bricks and shipping them in 1987 to distributors as disk drives, posting $4.3 million in sales. When the shipments were returned, it increased its inventory by the purported cost of the items shipped, or $3.66 million. * Obsolete parts were shipped to Singapore and Hong Kong and, with scrap and other parts at those locations, were repackaged or relabeled as active parts and then included in the 1987 inventory at a value of $8.9 million. * Throughout 1988, the accumulated scrap that had been written off was included in inventory at full value. Obsolete parts and scrap from the 1987 inventory were also carried on 1988 books and valued at $3.5 million. * During the 1988 fourth quarter, 6,100 disk drives were found to be contaminated. The drives were counted during the physical inventory and included in inventory at full value. The report also said that in 1988, the company dramatically increased shipments to three warehouses, booking $56.4 million in sales and a gross profit of $5.4 million. According to the investigators, none of these sales should have been reported in 1988. Chief Financial Officer Roger J. Mason said MiniScribe hopes to complete a restatement of financial results for 1986, 1987 and 1988 within six to eight weeks. A July 2, 1989, balance sheet also is being worked on and is expected to show a very substantial negative net worth. \r\n",
      "\n",
      "6953 :  9.612125479565474\n",
      "NOVEMBER SALES KEEP STEP WITH INVENTORIES, EASING FEARS OF BUILDUP Business inventories rose 0.4% in November and sales increased at the same pace, the government said Tuesday in a report that analysts said bodes well for the nation's economy in the new year. The Commerce Department said inventories held on shelves and back lots rose to a seasonally adjusted $753.6 billion in November, while sales reached $503.8 billion. The matching 0.4% gains kept the ratio of inventories to sales at 1.50, meaning it would take 1.5 months to exhaust inventories at the November sales pace. When not accompanied by increasing sales, rising inventories can signal economic weakness because they may lead manufacturers to order production cuts and layoffs while they sell off reserve goods. But John Hagens of WEFA Group in Bala-Cynwyd, Pa., said the new report indicates that \"at least from the inventories point of view, we think the economy is in pretty good shape for continued growth in 1989. \"Oftentimes, before a recession, inventories tend to build up. There's no evidence of any kind of excesses in inventories in the economy.\" A Positive Sign The November increase in inventories followed a minuscule rise in October and a 0.9% jump in September. It was the 23rd straight month in which inventories had risen, but sales generally have kept pace. \"It looks like inventories closed out the year on a very lean note, which should be a positive sign in terms of growth in the first half of this year,\" said Michael Evans, a forecaster in Washington. \"People remained somewhat skeptical about the durability of the recovery. They kept their inventories rather lean.\" The monthly increase in sales was down from a 1.3% increase in October and virtually unchanged sales activity in September. The November sales gain was led by a 0.9% rise at the retail level, followed by a 0.5% increase at the manufacturing level. These two gains offset a 0.4% decline in sales at the wholesale level. The government last week reported that retail sales in December rose a lackluster 0.2%. The increase in inventories was led by a 0.7% rise in retailers' inventories, followed by a 0.4% increase for manufacturers and virtually no change in wholesale stockpiles. \r\n",
      "\n",
      "83602 :  9.241174928546245\n",
      "INVENTORIES RISE; PRODUCTION CUTBACKS EXPECTED \"The implication is that production is going to slow some more in the second half of the year,\" said economist Bruce Steinberg of Merrill Lynch Capital Markets in New York. \"It could imply a small inventory correction in the second half,\" said James Annable, an economist at the First National Bank of Chicago. The May business activity produced a slight increase in the ratio of inventories to sales. It was 1.5, meaning it would take 1 1/2 months to exhaust inventories at the May sales pace. The ratio was 1.49 in April and 1.51 in March. Analysts noted that the buildup was most felt in the retail area, where the economy has slowed the most as the Federal Reserve tightened credit to contain inflation. Inventories were up 0.9%, compared to a sales decrease of 0.1%. \"I'm starting to wonder whether retailer inventories are getting out of hand,\" said Michael Niemira, an economist at Mitsubishi Bank in New York. \"The numbers suggest they're growing a little too fast.\" The automobile industry, which has seen new car inventories swell, already has reduced production at some factories. The Commerce Department said auto inventories rose 0.9% in May while sales dropped 1.8% from April. But even without the automobile category, inventories rose 0.9% in May. Other major inventory increases were noted at department and clothing stores, Steinberg said. Overall, general merchandise inventories rose 2.2%. All categories showed increased inventories in May, however. In addition to the 0.9% increase in the retail area, manufacturers' backlogs were up 0.6% while wholesalers' buildup was 0.8%. Inventories were 8.1% above the level in May, 1988. Wholesalers registered the only sales increase in May, up 0.5%. Manufacturers' sales fell 0.2% and retailers' were down 0.1%. Sales rose 8.2% over May of last year. \r\n",
      "\n"
     ]
    }
   ],
   "source": [
    "load_articles(ta(\"inventory organization\",3,0))"
   ]
  },
  {
   "cell_type": "markdown",
   "metadata": {},
   "source": [
    "Finally we are going to define a function that provide documents that are similar to the top k obtained, for this we are going first to restrict to the documents that contains at least one of the terms, than calculate their similarity using jaccard similarity which is independent from the size of the document"
   ]
  },
  {
   "cell_type": "code",
   "execution_count": 14,
   "metadata": {},
   "outputs": [],
   "source": [
    "def get_articles(list, articles):\n",
    "    results = set()\n",
    "    for i in range(len(list)):\n",
    "        for doc in list[i].keys():\n",
    "            if doc not in articles:\n",
    "                results.add(doc)\n",
    "    return results"
   ]
  },
  {
   "cell_type": "code",
   "execution_count": 15,
   "metadata": {},
   "outputs": [],
   "source": [
    "def jaccard(article, other, list):\n",
    "    union = len(list[article].union(list[other]))\n",
    "    intersect = len([w for w in list[article] if w in list[other]])\n",
    "    if union == 0:\n",
    "        return 0\n",
    "    else:\n",
    "        return (intersect / union)"
   ]
  },
  {
   "cell_type": "code",
   "execution_count": 16,
   "metadata": {},
   "outputs": [],
   "source": [
    "def search_articles(query, threshold, k=3, all=0,limit = 0):\n",
    "    articles = ta(query,k,all)\n",
    "    \n",
    "    voc = load_voc(\"if_access.csv\")\n",
    "\n",
    "    if limit > k:\n",
    "        limit = limit - k\n",
    "        other_articles = load_tokens(query, voc, \"if.csv\")\n",
    "        other_articles = get_articles(other_articles, articles.keys())\n",
    "        \n",
    "        index = load_voc(\"tokens_access.csv\")\n",
    "        \n",
    "        list = {}\n",
    "        \n",
    "        for article in articles.keys():\n",
    "            list[article] = set(ast.literal_eval(access_line(\"tokens.csv\", index[str(article)]).split('#')[1][1:-3]))\n",
    "        \n",
    "        for other in other_articles:\n",
    "            list[other] = set(ast.literal_eval(access_line(\"tokens.csv\", index[str(other)]).split('#')[1][1:-3]))\n",
    "        \n",
    "        score = 0.0\n",
    "        results = {}\n",
    "        for article in articles.keys():\n",
    "            for other in other_articles:\n",
    "                score = jaccard(article, other, list)\n",
    "                if score >= threshold:\n",
    "                    results[other] = score\n",
    "            other_articles = [doc for doc in other_articles if doc not in results.keys()]\n",
    "\n",
    "        for key, value in results.items():\n",
    "            articles[key] = value\n",
    "            limit-=1\n",
    "            if limit == 0:\n",
    "                return articles    \n",
    "    return articles"
   ]
  },
  {
   "cell_type": "markdown",
   "metadata": {},
   "source": [
    "here we can see that the document 6953 which is the top 3 is close to 6681"
   ]
  },
  {
   "cell_type": "code",
   "execution_count": 17,
   "metadata": {},
   "outputs": [
    {
     "name": "stdout",
     "output_type": "stream",
     "text": [
      "106803 :  9.682111973959575\n",
      "PANEL ALLEGES 'MASSIVE FRAUD' COMMITTED BY EX-MINISCRIBE OFFICIALS The former managers of computer disk-drive maker MiniScribe Corp. allegedly \"perpetrated a massive fraud\" by masking the company's declining fortunes with elaborately faked financial statements, an independent panel charged Tuesday. The panel, made up of newly elected directors and auditors, described unusual schemes to boost sales and inventory as the business fell on hard times. In one instance, the company shipped bricks to distributors and marked them down as computer component sales. In another, repackaged scrap metal and obsolete parts were made to appear to be new products. \"The fraud was all the more alarming in that it required the active participation of many company personnel, and was apparently common knowledge among a great many other employees,\" said the panel, which submitted its study of the business practices of Longmont, Colo.-based MiniScribe to the Securities and Exchange Commission. The victims were \"the company, its directors, its outside auditors and the investing public,\" the panel said. The report concluded that MiniScribe's operating results were manipulated to boost profits. In a statement accompanying the report, the company's new management said previously reported earnings for 1986 through 1988 will be \"materially and adversely affected\" when accurate results are compiled. Former MiniScribe Chairman Q. T. Wiles resigned in February, and several top officials were dismissed after the company announced a fourth-quarter 1988 loss of $14.6 million and a drop in annual profits to $25.8 million from $31.1 million despite what it had claimed was a 66% gain in sales to $362.5 million. Reorganized Firm Wiles, formerly the chairman of venture capital firm Hambrecht &amp; Quist and a respected corporate turnaround specialist, took command at MiniScribe in 1985. The company had just lost its biggest customer, International Business Machines Corp., and the personal computer industry was weak. Wiles sharply reduced the work force and reorganized the company, creating separate divisions, each with its own incentives and sales quotas. \"MiniScribe's management environment created and maintained an exceptional amount of pressure on company managers to achieve pre-established quarterly profitability goals,\" the report said. \"For division managers, the most important task was, invariably, to 'make the numbers,' \" it said. Attempts to reach Wiles by telephone at his home in Sherman Oaks were unsuccessful. The report said MiniScribe's accounting and internal auditing function was \"organized to prevent its 'interference' with the company's business operations.\" This put its financial control function \"in the operating divisions, where it resided in the hands of individuals who did not necessarily have financial training.\" The report said liberal use of incentive payments \"provided, to those willing to engage in fraudulent activities, both the incentive and the means to do so.\" Practices Listed The report described the following irregular practices: * Following completion of the year-end 1986 physical inventory, the company discovered a shortage valued at $4 million to $6 million. The shortfall was concealed by senior managers. * Company officials apparently broke into locked trunks containing the auditors' work papers during the 1986 year-end audit and changed inventory figures. * MiniScribe generated $3.66 million of false inventory values by packaging bricks and shipping them in 1987 to distributors as disk drives, posting $4.3 million in sales. When the shipments were returned, it increased its inventory by the purported cost of the items shipped, or $3.66 million. * Obsolete parts were shipped to Singapore and Hong Kong and, with scrap and other parts at those locations, were repackaged or relabeled as active parts and then included in the 1987 inventory at a value of $8.9 million. * Throughout 1988, the accumulated scrap that had been written off was included in inventory at full value. Obsolete parts and scrap from the 1987 inventory were also carried on 1988 books and valued at $3.5 million. * During the 1988 fourth quarter, 6,100 disk drives were found to be contaminated. The drives were counted during the physical inventory and included in inventory at full value. The report also said that in 1988, the company dramatically increased shipments to three warehouses, booking $56.4 million in sales and a gross profit of $5.4 million. According to the investigators, none of these sales should have been reported in 1988. Chief Financial Officer Roger J. Mason said MiniScribe hopes to complete a restatement of financial results for 1986, 1987 and 1988 within six to eight weeks. A July 2, 1989, balance sheet also is being worked on and is expected to show a very substantial negative net worth. \r\n",
      "\n",
      "6953 :  9.612125479565474\n",
      "NOVEMBER SALES KEEP STEP WITH INVENTORIES, EASING FEARS OF BUILDUP Business inventories rose 0.4% in November and sales increased at the same pace, the government said Tuesday in a report that analysts said bodes well for the nation's economy in the new year. The Commerce Department said inventories held on shelves and back lots rose to a seasonally adjusted $753.6 billion in November, while sales reached $503.8 billion. The matching 0.4% gains kept the ratio of inventories to sales at 1.50, meaning it would take 1.5 months to exhaust inventories at the November sales pace. When not accompanied by increasing sales, rising inventories can signal economic weakness because they may lead manufacturers to order production cuts and layoffs while they sell off reserve goods. But John Hagens of WEFA Group in Bala-Cynwyd, Pa., said the new report indicates that \"at least from the inventories point of view, we think the economy is in pretty good shape for continued growth in 1989. \"Oftentimes, before a recession, inventories tend to build up. There's no evidence of any kind of excesses in inventories in the economy.\" A Positive Sign The November increase in inventories followed a minuscule rise in October and a 0.9% jump in September. It was the 23rd straight month in which inventories had risen, but sales generally have kept pace. \"It looks like inventories closed out the year on a very lean note, which should be a positive sign in terms of growth in the first half of this year,\" said Michael Evans, a forecaster in Washington. \"People remained somewhat skeptical about the durability of the recovery. They kept their inventories rather lean.\" The monthly increase in sales was down from a 1.3% increase in October and virtually unchanged sales activity in September. The November sales gain was led by a 0.9% rise at the retail level, followed by a 0.5% increase at the manufacturing level. These two gains offset a 0.4% decline in sales at the wholesale level. The government last week reported that retail sales in December rose a lackluster 0.2%. The increase in inventories was led by a 0.7% rise in retailers' inventories, followed by a 0.4% increase for manufacturers and virtually no change in wholesale stockpiles. \r\n",
      "\n",
      "83602 :  9.241174928546245\n",
      "INVENTORIES RISE; PRODUCTION CUTBACKS EXPECTED \"The implication is that production is going to slow some more in the second half of the year,\" said economist Bruce Steinberg of Merrill Lynch Capital Markets in New York. \"It could imply a small inventory correction in the second half,\" said James Annable, an economist at the First National Bank of Chicago. The May business activity produced a slight increase in the ratio of inventories to sales. It was 1.5, meaning it would take 1 1/2 months to exhaust inventories at the May sales pace. The ratio was 1.49 in April and 1.51 in March. Analysts noted that the buildup was most felt in the retail area, where the economy has slowed the most as the Federal Reserve tightened credit to contain inflation. Inventories were up 0.9%, compared to a sales decrease of 0.1%. \"I'm starting to wonder whether retailer inventories are getting out of hand,\" said Michael Niemira, an economist at Mitsubishi Bank in New York. \"The numbers suggest they're growing a little too fast.\" The automobile industry, which has seen new car inventories swell, already has reduced production at some factories. The Commerce Department said auto inventories rose 0.9% in May while sales dropped 1.8% from April. But even without the automobile category, inventories rose 0.9% in May. Other major inventory increases were noted at department and clothing stores, Steinberg said. Overall, general merchandise inventories rose 2.2%. All categories showed increased inventories in May, however. In addition to the 0.9% increase in the retail area, manufacturers' backlogs were up 0.6% while wholesalers' buildup was 0.8%. Inventories were 8.1% above the level in May, 1988. Wholesalers registered the only sales increase in May, up 0.5%. Manufacturers' sales fell 0.2% and retailers' were down 0.1%. Sales rose 8.2% over May of last year. \r\n",
      "\n",
      "6681 :  0.6744186046511628\n",
      "BUSINESS INVENTORIES, SALES UP 0.4% IN NOV. Business inventories rose 0.4% in November and sales rose at the same pace, the government said today in a report that analysts said bodes well for the nation's economy in the new year. The Commerce Department said inventories held on shelves and back lots rose to a seasonally adjusted $753.6 billion in November, while sales reached $503.8 billion. The matching 0.4% gains kept the ratio of inventories to sales at 1.50, meaning it would take a month and a half to exhaust inventories at the November sales pace. When not accompanied by increasing sales, rising inventories can signal economic weakness because they may lead manufacturers to order production cuts and layoffs while they sell off reserve goods. But John Hagens of Wefa Group in Bala Cynwyd, Pa., said the new report indicates that \"at least from the inventories point of view, we think the economy is in pretty good shape for continued growth in 1989.\" \"Oftentimes, before a recession, inventories tend to build up,\" he said. \"There's no evidence of any kind of excesses in inventories in the economy.\" Follows Earlier Rise The November increase in inventories followed a minuscule rise during October and a 0.9% jump in September. It was the 23rd straight month in which inventories had risen, but sales generally have kept pace. The monthly increase in sales was down from a 1.3% increase in October and virtually unchanged sales activity in September. \r\n",
      "\n"
     ]
    }
   ],
   "source": [
    "load_articles(search_articles(\"inventory organization\",0.6,3,0,10))"
   ]
  },
  {
   "cell_type": "markdown",
   "metadata": {},
   "source": [
    "Now to predict the closest words in meaning to those on the query, we are going to train a small neural network with just one hidden layer, Word2Vec"
   ]
  },
  {
   "cell_type": "code",
   "execution_count": 18,
   "metadata": {},
   "outputs": [],
   "source": [
    "def load_data(filename):\n",
    "    data = []\n",
    "    with open(filename,\"r\") as file:\n",
    "        for line in file:\n",
    "            res = ast.literal_eval(line.split(\"#\")[1][1:-2])\n",
    "            if len(res) > 0:\n",
    "                data.append(res)\n",
    "    return data"
   ]
  },
  {
   "cell_type": "code",
   "execution_count": 19,
   "metadata": {},
   "outputs": [],
   "source": [
    "documents = load_data(\"tokens.csv\")\n",
    "\n",
    "model = gensim.models.Word2Vec(\n",
    "    documents,\n",
    "    size=150,\n",
    "    window=10,\n",
    "    min_count=2,\n",
    "    workers=10)\n",
    "model.train(documents, total_examples=len(documents), epochs=100)\n",
    "\n",
    "model.save(\"word2vec.model\")"
   ]
  },
  {
   "cell_type": "markdown",
   "metadata": {},
   "source": [
    "And we can test it here with the same example"
   ]
  },
  {
   "cell_type": "code",
   "execution_count": 20,
   "metadata": {},
   "outputs": [
    {
     "name": "stdout",
     "output_type": "stream",
     "text": [
      "Most similar to ['inventori', 'organ'] [('group', 0.5001776814460754), ('membership', 0.48198387026786804), ('sector', 0.4637340307235718), ('sale', 0.4511248469352722), ('industri', 0.44904905557632446)]\n"
     ]
    }
   ],
   "source": [
    "model = gensim.models.Word2Vec.load(\"word2vec.model\")\n",
    "\n",
    "query = \"inventory organization\"\n",
    "voc = load_voc(\"if_access.csv\")\n",
    "stop_words = stopwords.words('english')\n",
    "stop_words.extend([\"the\"])\n",
    "stop_words = set(stop_words)\n",
    "stemmer = SnowballStemmer('english')\n",
    "query = re.sub(r'[^\\w]', ' ', query)\n",
    "tokens = word_tokenize(re.sub(r\"\\d+\", \"\", query.lower()))\n",
    "tokens = [w for w in tokens if w not in stop_words]\n",
    "tokens = set([stemmer.stem(w) for w in tokens])\n",
    "query = [token for token in tokens if token in voc.keys()]\n",
    "\n",
    "print(\"Most similar to {0}\".format(query), model.wv.most_similar(positive=query, topn=5))"
   ]
  }
 ],
 "metadata": {
  "kernelspec": {
   "display_name": "Python 3",
   "language": "python",
   "name": "python3"
  },
  "language_info": {
   "codemirror_mode": {
    "name": "ipython",
    "version": 3
   },
   "file_extension": ".py",
   "mimetype": "text/x-python",
   "name": "python",
   "nbconvert_exporter": "python",
   "pygments_lexer": "ipython3",
   "version": "3.7.3"
  }
 },
 "nbformat": 4,
 "nbformat_minor": 2
}
